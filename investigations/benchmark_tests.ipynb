{
 "cells": [
  {
   "cell_type": "code",
   "execution_count": 3,
   "id": "666edfb1",
   "metadata": {},
   "outputs": [],
   "source": [
    "import os\n",
    "import nbformat\n",
    "import difflib\n",
    "\n",
    "\n",
    "class Detector:\n",
    "    \n",
    "    def __init__(self, path, threshold=0.9):\n",
    "        self.path = path\n",
    "        self.threshold = threshold\n",
    "        self.ipynb_files = [f for f in os.listdir(self.path) if f.endswith('.ipynb')]\n",
    "\n",
    "    def read_notebook_content(self, file_path):\n",
    "        with open(file_path, 'r', encoding='utf-8') as file:\n",
    "            notebook = nbformat.read(file, as_version=4)\n",
    "        code_cells = [cell['source'] for cell in notebook.cells if cell.cell_type == 'code']\n",
    "        return '\\n'.join(code_cells)\n",
    "\n",
    "    def compare_notebook_similarity(self, notebook1_path, notebook2_path):\n",
    "        content1 = self.read_notebook_content(notebook1_path)\n",
    "        content2 = self.read_notebook_content(notebook2_path)\n",
    "        return difflib.SequenceMatcher(None, content1, content2).ratio()\n",
    "\n",
    "    def generate_results(self):\n",
    "        for i in range(len(self.ipynb_files)):\n",
    "            for j in range(i + 1, len(self.ipynb_files)):\n",
    "                file1_path = os.path.join(self.path, self.ipynb_files[i])\n",
    "                file2_path = os.path.join(self.path, self.ipynb_files[j])\n",
    "                similarity_ratio = self.compare_notebook_similarity(file1_path, file2_path)\n",
    "                if similarity_ratio > self.threshold:\n",
    "                    print(f\"Potential plagiarism detected between {self.ipynb_files[i]} and {self.ipynb_files[j]} - Similarity: {similarity_ratio}\")\n",
    "\n"
   ]
  },
  {
   "cell_type": "code",
   "execution_count": 4,
   "id": "8a62060a",
   "metadata": {},
   "outputs": [
    {
     "name": "stdout",
     "output_type": "stream",
     "text": [
      "Potential plagiarism detected between 0102.ipynb and 0101.ipynb - Similarity: 1.0\n",
      "Potential plagiarism detected between 0102.ipynb and 0103.ipynb - Similarity: 0.9985236220472441\n",
      "Potential plagiarism detected between 0101.ipynb and 0103.ipynb - Similarity: 0.9985236220472441\n"
     ]
    }
   ],
   "source": [
    "folder_path = 'data'\n",
    "detector = Detector(folder_path)\n",
    "\n",
    "detector.generate_results()\n"
   ]
  },
  {
   "cell_type": "code",
   "execution_count": 5,
   "id": "b109b3d2",
   "metadata": {},
   "outputs": [
    {
     "name": "stdout",
     "output_type": "stream",
     "text": [
      "The similarity between 0101.ipynb and 0102.ipynb is: 1.0\n",
      "Potential plagiarism detected between 0101.ipynb and 0102.ipynb - Similarity: 1.0\n"
     ]
    }
   ],
   "source": [
    "file1 = '0101.ipynb'\n",
    "file2 = '0102.ipynb'\n",
    "\n",
    "file1_path = os.path.join(detector.path, file1)\n",
    "file2_path = os.path.join(detector.path, file2)\n",
    "\n",
    "similarity_ratio = detector.compare_notebook_similarity(file1_path, file2_path)\n",
    "\n",
    "print(f\"The similarity between {file1} and {file2} is: {similarity_ratio}\")\n",
    "\n",
    "if similarity_ratio > detector.threshold:\n",
    "    print(f\"Potential plagiarism detected between {file1} and {file2} - Similarity: {similarity_ratio}\")"
   ]
  }
 ],
 "metadata": {
  "kernelspec": {
   "display_name": "Python 3 (ipykernel)",
   "language": "python",
   "name": "python3"
  },
  "language_info": {
   "codemirror_mode": {
    "name": "ipython",
    "version": 3
   },
   "file_extension": ".py",
   "mimetype": "text/x-python",
   "name": "python",
   "nbconvert_exporter": "python",
   "pygments_lexer": "ipython3",
   "version": "3.9.13"
  }
 },
 "nbformat": 4,
 "nbformat_minor": 5
}
