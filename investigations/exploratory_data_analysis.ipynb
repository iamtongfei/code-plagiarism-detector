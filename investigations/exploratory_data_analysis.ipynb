{
 "cells": [
  {
   "cell_type": "code",
   "execution_count": 3,
   "metadata": {},
   "outputs": [],
   "source": [
    "import os\n",
    "import nbformat\n"
   ]
  },
  {
   "cell_type": "code",
   "execution_count": 4,
   "metadata": {},
   "outputs": [],
   "source": [
    "def read_notebook(path):\n",
    "    with open(path, 'r', encoding='utf-8') as file:\n",
    "        return nbformat.read(file, as_version=4)\n"
   ]
  },
  {
   "cell_type": "code",
   "execution_count": 5,
   "metadata": {},
   "outputs": [],
   "source": [
    "folder_path = 'data'\n",
    "notebooks = []\n",
    "\n",
    "for filename in os.listdir(folder_path):\n",
    "    if filename.endswith('.ipynb'):\n",
    "        file_path = os.path.join(folder_path, filename)\n",
    "        notebook = read_notebook(file_path)\n",
    "        notebooks.append((filename, notebook))\n"
   ]
  },
  {
   "cell_type": "code",
   "execution_count": 6,
   "metadata": {},
   "outputs": [
    {
     "name": "stdout",
     "output_type": "stream",
     "text": [
      "Total code cells: 1207\n",
      "Total markdown cells: 388\n"
     ]
    }
   ],
   "source": [
    "code_cell_count = 0\n",
    "markdown_cell_count = 0\n",
    "\n",
    "for _, notebook in notebooks:\n",
    "    for cell in notebook.cells:\n",
    "        if cell.cell_type == 'code':\n",
    "            code_cell_count += 1\n",
    "        elif cell.cell_type == 'markdown':\n",
    "            markdown_cell_count += 1\n",
    "\n",
    "print(\"Total code cells:\", code_cell_count)\n",
    "print(\"Total markdown cells:\", markdown_cell_count)\n"
   ]
  },
  {
   "cell_type": "code",
   "execution_count": null,
   "metadata": {},
   "outputs": [],
   "source": []
  }
 ],
 "metadata": {
  "kernelspec": {
   "display_name": "Python 3 (ipykernel)",
   "language": "python",
   "name": "python3"
  },
  "language_info": {
   "codemirror_mode": {
    "name": "ipython",
    "version": 3
   },
   "file_extension": ".py",
   "mimetype": "text/x-python",
   "name": "python",
   "nbconvert_exporter": "python",
   "pygments_lexer": "ipython3",
   "version": "3.10.9"
  }
 },
 "nbformat": 4,
 "nbformat_minor": 5
}
