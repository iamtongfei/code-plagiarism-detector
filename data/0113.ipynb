{
 "cells": [
  {
   "cell_type": "markdown",
   "metadata": {},
   "source": [
    "# Homework 2\n",
    "\n",
    "The goal of this Homework is to write Python code to answer each of the questions below. You should be able to answer these questions using Pandas only. You should not need to import any other packages. You should not use Excel or any other means to answer these questions. **Since questions have subquestions, it would be helpful if you use comments to clearly indicate which question you are answering**.\n",
    "\n",
    "## Introduction\n",
    "The Centers for Medicare & Medicaid Services ([CMS](cms.gov)) is a federal agency within the United States Department of Health and Human Services (HHS) that administers the **Medicare program** and works in partnership with state governments to administer Medicaid, the Children's Health Insurance Program (CHIP), and health insurance portability standards.\n",
    " - **Medicare** is a national health insurance program that provides health insurance for Americans aged 65 and over\n",
    "\n",
    "The **Medicare Part D** program, also called the Medicare prescription drug benefit, is an optional United States federal-government program to help Medicare beneficiaries pay for self-administered prescription drugs through prescription drug insurance premiums.\n",
    "\n",
    "CMS maintains a lot of [public info](https://www.cms.gov/Research-Statistics-Data-and-Systems/Statistics-Trends-and-Reports/Medicare-Provider-Charge-Data/Part-D-Prescriber) on prescription drugs that are prescribed by individual physicians and other health care **providers** and paid for under the **Medicare Part D** Prescription Drug Program.\n",
    "\n",
    "I downloaded the **2017 Provider Summary table** and sampled it down from 1.1 million records (360 MB) to roughly 6000 records (2MB). If you would like to check out the original dataset, you can download it from this site https://www.cms.gov/Research-Statistics-Data-and-Systems/Statistics-Trends-and-Reports/Medicare-Provider-Charge-Data/PartD2017   \n",
    "\n",
    "But for this assignment, you need to use the provided downsampled dataset `part_d_drug_prescriptions_sample2.csv`. If you would like, the data dictionary is available [here](https://www.cms.gov/Research-Statistics-Data-and-Systems/Statistics-Trends-and-Reports/Medicare-Provider-Charge-Data/Downloads/Prescriber_Methods.pdf). The applicable section is Table 2 in the Appendix.\n"
   ]
  },
  {
   "cell_type": "code",
   "execution_count": 1,
   "metadata": {},
   "outputs": [],
   "source": [
    "import pandas as pd\n",
    "import os\n",
    "pd.set_option('display.max_rows', 200)\n",
    "pd.set_option('display.max_rows', 200)\n"
   ]
  },
  {
   "cell_type": "markdown",
   "metadata": {},
   "source": [
    "## Question 1\n",
    "\n",
    "Use Pandas to import **part_d_drug_prescriptions_sample2.csv** into a DataFrame, named `part_d`. How many rows and colums does the dataset have?"
   ]
  },
  {
   "cell_type": "code",
   "execution_count": 2,
   "metadata": {},
   "outputs": [
    {
     "data": {
      "text/plain": [
       "'/Users/katherineli/Desktop/Python for data analytics/Assignment 2 '"
      ]
     },
     "execution_count": 2,
     "metadata": {},
     "output_type": "execute_result"
    }
   ],
   "source": [
    "os.getcwd()"
   ]
  },
  {
   "cell_type": "code",
   "execution_count": 3,
   "metadata": {},
   "outputs": [
    {
     "name": "stdout",
     "output_type": "stream",
     "text": [
      "There are 5815 rows\n",
      "There are 84 columns\n"
     ]
    }
   ],
   "source": [
    "# load the local csv as a dataframe \n",
    "part_d = pd.read_csv('part_d_drug_prescriptions_sample2.csv')\n",
    "\n",
    "count_row = part_d.shape[0]   \n",
    "count_col = part_d.shape[1] \n",
    "\n",
    "# the number of row\n",
    "print(\"There are\", count_row, \"rows\")\n",
    "print(\"There are\", count_col, \"columns\")"
   ]
  },
  {
   "cell_type": "markdown",
   "metadata": {},
   "source": [
    "## Question 2\n",
    "This question has two parts:\n",
    "1. Display the first 6 rows of `part_d`.\n",
    "2. Display the last 6 rows of `part_d`."
   ]
  },
  {
   "cell_type": "code",
   "execution_count": 4,
   "metadata": {
    "scrolled": false
   },
   "outputs": [
    {
     "data": {
      "text/html": [
       "<div>\n",
       "<style scoped>\n",
       "    .dataframe tbody tr th:only-of-type {\n",
       "        vertical-align: middle;\n",
       "    }\n",
       "\n",
       "    .dataframe tbody tr th {\n",
       "        vertical-align: top;\n",
       "    }\n",
       "\n",
       "    .dataframe thead th {\n",
       "        text-align: right;\n",
       "    }\n",
       "</style>\n",
       "<table border=\"1\" class=\"dataframe\">\n",
       "  <thead>\n",
       "    <tr style=\"text-align: right;\">\n",
       "      <th></th>\n",
       "      <th>npi</th>\n",
       "      <th>nppes_provider_last_org_name</th>\n",
       "      <th>nppes_provider_first_name</th>\n",
       "      <th>nppes_provider_mi</th>\n",
       "      <th>nppes_credentials</th>\n",
       "      <th>nppes_provider_gender</th>\n",
       "      <th>nppes_entity_code</th>\n",
       "      <th>nppes_provider_street1</th>\n",
       "      <th>nppes_provider_street2</th>\n",
       "      <th>nppes_provider_city</th>\n",
       "      <th>...</th>\n",
       "      <th>beneficiary_male_count</th>\n",
       "      <th>beneficiary_race_white_count</th>\n",
       "      <th>beneficiary_race_black_count</th>\n",
       "      <th>beneficiary_race_asian_pi_count</th>\n",
       "      <th>beneficiary_race_hispanic_count</th>\n",
       "      <th>beneficiary_race_nat_ind_count</th>\n",
       "      <th>beneficiary_race_other_count</th>\n",
       "      <th>beneficiary_nondual_count</th>\n",
       "      <th>beneficiary_dual_count</th>\n",
       "      <th>beneficiary_average_risk_score</th>\n",
       "    </tr>\n",
       "  </thead>\n",
       "  <tbody>\n",
       "    <tr>\n",
       "      <th>0</th>\n",
       "      <td>1003000126</td>\n",
       "      <td>ENKESHAFI</td>\n",
       "      <td>ARDALAN</td>\n",
       "      <td>NaN</td>\n",
       "      <td>M.D.</td>\n",
       "      <td>M</td>\n",
       "      <td>I</td>\n",
       "      <td>900 SETON DR</td>\n",
       "      <td>NaN</td>\n",
       "      <td>CUMBERLAND</td>\n",
       "      <td>...</td>\n",
       "      <td>92.0</td>\n",
       "      <td>220.0</td>\n",
       "      <td>14.0</td>\n",
       "      <td>0.0</td>\n",
       "      <td>0.0</td>\n",
       "      <td>0.0</td>\n",
       "      <td>0.0</td>\n",
       "      <td>143.0</td>\n",
       "      <td>91.0</td>\n",
       "      <td>2.1685</td>\n",
       "    </tr>\n",
       "    <tr>\n",
       "      <th>1</th>\n",
       "      <td>1003012022</td>\n",
       "      <td>CUDZILO</td>\n",
       "      <td>COREY</td>\n",
       "      <td>NaN</td>\n",
       "      <td>M.D.</td>\n",
       "      <td>M</td>\n",
       "      <td>I</td>\n",
       "      <td>2240 SUTHERLAND AVE</td>\n",
       "      <td>SUITE 103</td>\n",
       "      <td>KNOXVILLE</td>\n",
       "      <td>...</td>\n",
       "      <td>35.0</td>\n",
       "      <td>NaN</td>\n",
       "      <td>NaN</td>\n",
       "      <td>0.0</td>\n",
       "      <td>NaN</td>\n",
       "      <td>0.0</td>\n",
       "      <td>0.0</td>\n",
       "      <td>49.0</td>\n",
       "      <td>33.0</td>\n",
       "      <td>2.5022</td>\n",
       "    </tr>\n",
       "    <tr>\n",
       "      <th>2</th>\n",
       "      <td>1003020041</td>\n",
       "      <td>BAXTER</td>\n",
       "      <td>MARGARET</td>\n",
       "      <td>NaN</td>\n",
       "      <td>M.D.</td>\n",
       "      <td>F</td>\n",
       "      <td>I</td>\n",
       "      <td>1100 LONG POND RD</td>\n",
       "      <td>SUITE 250</td>\n",
       "      <td>ROCHESTER</td>\n",
       "      <td>...</td>\n",
       "      <td>221.0</td>\n",
       "      <td>544.0</td>\n",
       "      <td>NaN</td>\n",
       "      <td>NaN</td>\n",
       "      <td>17.0</td>\n",
       "      <td>0.0</td>\n",
       "      <td>26.0</td>\n",
       "      <td>515.0</td>\n",
       "      <td>95.0</td>\n",
       "      <td>1.0164</td>\n",
       "    </tr>\n",
       "    <tr>\n",
       "      <th>3</th>\n",
       "      <td>1003031212</td>\n",
       "      <td>KAYALI</td>\n",
       "      <td>FADI</td>\n",
       "      <td>NaN</td>\n",
       "      <td>M.D.</td>\n",
       "      <td>M</td>\n",
       "      <td>I</td>\n",
       "      <td>600 N CATTLEMEN RD</td>\n",
       "      <td>SUITE 200</td>\n",
       "      <td>SARASOTA</td>\n",
       "      <td>...</td>\n",
       "      <td>140.0</td>\n",
       "      <td>249.0</td>\n",
       "      <td>NaN</td>\n",
       "      <td>NaN</td>\n",
       "      <td>NaN</td>\n",
       "      <td>0.0</td>\n",
       "      <td>NaN</td>\n",
       "      <td>229.0</td>\n",
       "      <td>45.0</td>\n",
       "      <td>2.4311</td>\n",
       "    </tr>\n",
       "    <tr>\n",
       "      <th>4</th>\n",
       "      <td>1003043175</td>\n",
       "      <td>BENSON</td>\n",
       "      <td>REBECCA</td>\n",
       "      <td>L</td>\n",
       "      <td>D.D.S.</td>\n",
       "      <td>F</td>\n",
       "      <td>I</td>\n",
       "      <td>6601 LYNDALE AVE S</td>\n",
       "      <td>NaN</td>\n",
       "      <td>RICHFIELD</td>\n",
       "      <td>...</td>\n",
       "      <td>NaN</td>\n",
       "      <td>NaN</td>\n",
       "      <td>0.0</td>\n",
       "      <td>0.0</td>\n",
       "      <td>0.0</td>\n",
       "      <td>0.0</td>\n",
       "      <td>NaN</td>\n",
       "      <td>20.0</td>\n",
       "      <td>0.0</td>\n",
       "      <td>1.0910</td>\n",
       "    </tr>\n",
       "    <tr>\n",
       "      <th>5</th>\n",
       "      <td>1003054206</td>\n",
       "      <td>SEILER</td>\n",
       "      <td>WARREN</td>\n",
       "      <td>B</td>\n",
       "      <td>MD</td>\n",
       "      <td>M</td>\n",
       "      <td>I</td>\n",
       "      <td>2700 ROGERS DR</td>\n",
       "      <td>SUITE 101</td>\n",
       "      <td>HOMEWOOD</td>\n",
       "      <td>...</td>\n",
       "      <td>NaN</td>\n",
       "      <td>NaN</td>\n",
       "      <td>NaN</td>\n",
       "      <td>NaN</td>\n",
       "      <td>NaN</td>\n",
       "      <td>NaN</td>\n",
       "      <td>NaN</td>\n",
       "      <td>NaN</td>\n",
       "      <td>NaN</td>\n",
       "      <td>NaN</td>\n",
       "    </tr>\n",
       "  </tbody>\n",
       "</table>\n",
       "<p>6 rows × 84 columns</p>\n",
       "</div>"
      ],
      "text/plain": [
       "          npi nppes_provider_last_org_name nppes_provider_first_name  \\\n",
       "0  1003000126                    ENKESHAFI                   ARDALAN   \n",
       "1  1003012022                      CUDZILO                     COREY   \n",
       "2  1003020041                       BAXTER                  MARGARET   \n",
       "3  1003031212                       KAYALI                      FADI   \n",
       "4  1003043175                       BENSON                   REBECCA   \n",
       "5  1003054206                       SEILER                    WARREN   \n",
       "\n",
       "  nppes_provider_mi nppes_credentials nppes_provider_gender nppes_entity_code  \\\n",
       "0               NaN              M.D.                     M                 I   \n",
       "1               NaN              M.D.                     M                 I   \n",
       "2               NaN              M.D.                     F                 I   \n",
       "3               NaN              M.D.                     M                 I   \n",
       "4                 L            D.D.S.                     F                 I   \n",
       "5                 B                MD                     M                 I   \n",
       "\n",
       "  nppes_provider_street1 nppes_provider_street2 nppes_provider_city  ...  \\\n",
       "0           900 SETON DR                    NaN          CUMBERLAND  ...   \n",
       "1    2240 SUTHERLAND AVE              SUITE 103           KNOXVILLE  ...   \n",
       "2      1100 LONG POND RD              SUITE 250           ROCHESTER  ...   \n",
       "3     600 N CATTLEMEN RD              SUITE 200            SARASOTA  ...   \n",
       "4     6601 LYNDALE AVE S                    NaN           RICHFIELD  ...   \n",
       "5         2700 ROGERS DR              SUITE 101            HOMEWOOD  ...   \n",
       "\n",
       "   beneficiary_male_count  beneficiary_race_white_count  \\\n",
       "0                    92.0                         220.0   \n",
       "1                    35.0                           NaN   \n",
       "2                   221.0                         544.0   \n",
       "3                   140.0                         249.0   \n",
       "4                     NaN                           NaN   \n",
       "5                     NaN                           NaN   \n",
       "\n",
       "  beneficiary_race_black_count beneficiary_race_asian_pi_count  \\\n",
       "0                         14.0                             0.0   \n",
       "1                          NaN                             0.0   \n",
       "2                          NaN                             NaN   \n",
       "3                          NaN                             NaN   \n",
       "4                          0.0                             0.0   \n",
       "5                          NaN                             NaN   \n",
       "\n",
       "  beneficiary_race_hispanic_count beneficiary_race_nat_ind_count  \\\n",
       "0                             0.0                            0.0   \n",
       "1                             NaN                            0.0   \n",
       "2                            17.0                            0.0   \n",
       "3                             NaN                            0.0   \n",
       "4                             0.0                            0.0   \n",
       "5                             NaN                            NaN   \n",
       "\n",
       "  beneficiary_race_other_count  beneficiary_nondual_count  \\\n",
       "0                          0.0                      143.0   \n",
       "1                          0.0                       49.0   \n",
       "2                         26.0                      515.0   \n",
       "3                          NaN                      229.0   \n",
       "4                          NaN                       20.0   \n",
       "5                          NaN                        NaN   \n",
       "\n",
       "   beneficiary_dual_count  beneficiary_average_risk_score  \n",
       "0                    91.0                          2.1685  \n",
       "1                    33.0                          2.5022  \n",
       "2                    95.0                          1.0164  \n",
       "3                    45.0                          2.4311  \n",
       "4                     0.0                          1.0910  \n",
       "5                     NaN                             NaN  \n",
       "\n",
       "[6 rows x 84 columns]"
      ]
     },
     "execution_count": 4,
     "metadata": {},
     "output_type": "execute_result"
    }
   ],
   "source": [
    "# 2.1 \n",
    "part_d.head(6)"
   ]
  },
  {
   "cell_type": "code",
   "execution_count": 5,
   "metadata": {},
   "outputs": [
    {
     "data": {
      "text/html": [
       "<div>\n",
       "<style scoped>\n",
       "    .dataframe tbody tr th:only-of-type {\n",
       "        vertical-align: middle;\n",
       "    }\n",
       "\n",
       "    .dataframe tbody tr th {\n",
       "        vertical-align: top;\n",
       "    }\n",
       "\n",
       "    .dataframe thead th {\n",
       "        text-align: right;\n",
       "    }\n",
       "</style>\n",
       "<table border=\"1\" class=\"dataframe\">\n",
       "  <thead>\n",
       "    <tr style=\"text-align: right;\">\n",
       "      <th></th>\n",
       "      <th>npi</th>\n",
       "      <th>nppes_provider_last_org_name</th>\n",
       "      <th>nppes_provider_first_name</th>\n",
       "      <th>nppes_provider_mi</th>\n",
       "      <th>nppes_credentials</th>\n",
       "      <th>nppes_provider_gender</th>\n",
       "      <th>nppes_entity_code</th>\n",
       "      <th>nppes_provider_street1</th>\n",
       "      <th>nppes_provider_street2</th>\n",
       "      <th>nppes_provider_city</th>\n",
       "      <th>...</th>\n",
       "      <th>beneficiary_male_count</th>\n",
       "      <th>beneficiary_race_white_count</th>\n",
       "      <th>beneficiary_race_black_count</th>\n",
       "      <th>beneficiary_race_asian_pi_count</th>\n",
       "      <th>beneficiary_race_hispanic_count</th>\n",
       "      <th>beneficiary_race_nat_ind_count</th>\n",
       "      <th>beneficiary_race_other_count</th>\n",
       "      <th>beneficiary_nondual_count</th>\n",
       "      <th>beneficiary_dual_count</th>\n",
       "      <th>beneficiary_average_risk_score</th>\n",
       "    </tr>\n",
       "  </thead>\n",
       "  <tbody>\n",
       "    <tr>\n",
       "      <th>5809</th>\n",
       "      <td>1992936330</td>\n",
       "      <td>MANLEY</td>\n",
       "      <td>CHRISTOPHER</td>\n",
       "      <td>J</td>\n",
       "      <td>MD</td>\n",
       "      <td>M</td>\n",
       "      <td>I</td>\n",
       "      <td>333 COTTMAN AVE</td>\n",
       "      <td>NaN</td>\n",
       "      <td>PHILADELPHIA</td>\n",
       "      <td>...</td>\n",
       "      <td>25.0</td>\n",
       "      <td>NaN</td>\n",
       "      <td>NaN</td>\n",
       "      <td>NaN</td>\n",
       "      <td>0.0</td>\n",
       "      <td>0.0</td>\n",
       "      <td>NaN</td>\n",
       "      <td>NaN</td>\n",
       "      <td>NaN</td>\n",
       "      <td>2.5471</td>\n",
       "    </tr>\n",
       "    <tr>\n",
       "      <th>5810</th>\n",
       "      <td>1992949150</td>\n",
       "      <td>WANG</td>\n",
       "      <td>AMY</td>\n",
       "      <td>M</td>\n",
       "      <td>MD</td>\n",
       "      <td>F</td>\n",
       "      <td>I</td>\n",
       "      <td>3130 N COUNTY ROAD 25A</td>\n",
       "      <td>NaN</td>\n",
       "      <td>TROY</td>\n",
       "      <td>...</td>\n",
       "      <td>73.0</td>\n",
       "      <td>168.0</td>\n",
       "      <td>24.0</td>\n",
       "      <td>NaN</td>\n",
       "      <td>NaN</td>\n",
       "      <td>0.0</td>\n",
       "      <td>NaN</td>\n",
       "      <td>146.0</td>\n",
       "      <td>58.0</td>\n",
       "      <td>2.0090</td>\n",
       "    </tr>\n",
       "    <tr>\n",
       "      <th>5811</th>\n",
       "      <td>1992961429</td>\n",
       "      <td>PARKER</td>\n",
       "      <td>MELINDA</td>\n",
       "      <td>S</td>\n",
       "      <td>PA-C</td>\n",
       "      <td>F</td>\n",
       "      <td>I</td>\n",
       "      <td>3209 S 23RD ST</td>\n",
       "      <td>STE 340</td>\n",
       "      <td>TACOMA</td>\n",
       "      <td>...</td>\n",
       "      <td>59.0</td>\n",
       "      <td>NaN</td>\n",
       "      <td>0.0</td>\n",
       "      <td>0.0</td>\n",
       "      <td>0.0</td>\n",
       "      <td>0.0</td>\n",
       "      <td>NaN</td>\n",
       "      <td>NaN</td>\n",
       "      <td>NaN</td>\n",
       "      <td>0.9592</td>\n",
       "    </tr>\n",
       "    <tr>\n",
       "      <th>5812</th>\n",
       "      <td>1992969141</td>\n",
       "      <td>BURKART</td>\n",
       "      <td>NORA</td>\n",
       "      <td>E</td>\n",
       "      <td>M.D.</td>\n",
       "      <td>F</td>\n",
       "      <td>I</td>\n",
       "      <td>1805 HENNEPIN AVE N</td>\n",
       "      <td>NaN</td>\n",
       "      <td>GLENCOE</td>\n",
       "      <td>...</td>\n",
       "      <td>11.0</td>\n",
       "      <td>NaN</td>\n",
       "      <td>0.0</td>\n",
       "      <td>0.0</td>\n",
       "      <td>NaN</td>\n",
       "      <td>0.0</td>\n",
       "      <td>0.0</td>\n",
       "      <td>NaN</td>\n",
       "      <td>NaN</td>\n",
       "      <td>1.3618</td>\n",
       "    </tr>\n",
       "    <tr>\n",
       "      <th>5813</th>\n",
       "      <td>1992980767</td>\n",
       "      <td>TANAWUTTIWAT</td>\n",
       "      <td>TANYANAN</td>\n",
       "      <td>NaN</td>\n",
       "      <td>M.D.</td>\n",
       "      <td>F</td>\n",
       "      <td>I</td>\n",
       "      <td>2500 N STATE ST</td>\n",
       "      <td>NaN</td>\n",
       "      <td>JACKSON</td>\n",
       "      <td>...</td>\n",
       "      <td>84.0</td>\n",
       "      <td>NaN</td>\n",
       "      <td>79.0</td>\n",
       "      <td>NaN</td>\n",
       "      <td>NaN</td>\n",
       "      <td>NaN</td>\n",
       "      <td>0.0</td>\n",
       "      <td>75.0</td>\n",
       "      <td>78.0</td>\n",
       "      <td>2.0090</td>\n",
       "    </tr>\n",
       "    <tr>\n",
       "      <th>5814</th>\n",
       "      <td>1992994446</td>\n",
       "      <td>PATETE</td>\n",
       "      <td>MICHAEL</td>\n",
       "      <td>L</td>\n",
       "      <td>MD, FACS</td>\n",
       "      <td>M</td>\n",
       "      <td>I</td>\n",
       "      <td>213 PALERMO PL</td>\n",
       "      <td>NaN</td>\n",
       "      <td>VENICE</td>\n",
       "      <td>...</td>\n",
       "      <td>472.0</td>\n",
       "      <td>951.0</td>\n",
       "      <td>NaN</td>\n",
       "      <td>NaN</td>\n",
       "      <td>NaN</td>\n",
       "      <td>NaN</td>\n",
       "      <td>19.0</td>\n",
       "      <td>948.0</td>\n",
       "      <td>35.0</td>\n",
       "      <td>1.2319</td>\n",
       "    </tr>\n",
       "  </tbody>\n",
       "</table>\n",
       "<p>6 rows × 84 columns</p>\n",
       "</div>"
      ],
      "text/plain": [
       "             npi nppes_provider_last_org_name nppes_provider_first_name  \\\n",
       "5809  1992936330                       MANLEY               CHRISTOPHER   \n",
       "5810  1992949150                         WANG                       AMY   \n",
       "5811  1992961429                       PARKER                   MELINDA   \n",
       "5812  1992969141                      BURKART                      NORA   \n",
       "5813  1992980767                 TANAWUTTIWAT                  TANYANAN   \n",
       "5814  1992994446                       PATETE                   MICHAEL   \n",
       "\n",
       "     nppes_provider_mi nppes_credentials nppes_provider_gender  \\\n",
       "5809                 J                MD                     M   \n",
       "5810                 M                MD                     F   \n",
       "5811                 S              PA-C                     F   \n",
       "5812                 E              M.D.                     F   \n",
       "5813               NaN              M.D.                     F   \n",
       "5814                 L          MD, FACS                     M   \n",
       "\n",
       "     nppes_entity_code  nppes_provider_street1 nppes_provider_street2  \\\n",
       "5809                 I         333 COTTMAN AVE                    NaN   \n",
       "5810                 I  3130 N COUNTY ROAD 25A                    NaN   \n",
       "5811                 I          3209 S 23RD ST                STE 340   \n",
       "5812                 I     1805 HENNEPIN AVE N                    NaN   \n",
       "5813                 I         2500 N STATE ST                    NaN   \n",
       "5814                 I          213 PALERMO PL                    NaN   \n",
       "\n",
       "     nppes_provider_city  ...  beneficiary_male_count  \\\n",
       "5809        PHILADELPHIA  ...                    25.0   \n",
       "5810                TROY  ...                    73.0   \n",
       "5811              TACOMA  ...                    59.0   \n",
       "5812             GLENCOE  ...                    11.0   \n",
       "5813             JACKSON  ...                    84.0   \n",
       "5814              VENICE  ...                   472.0   \n",
       "\n",
       "      beneficiary_race_white_count beneficiary_race_black_count  \\\n",
       "5809                           NaN                          NaN   \n",
       "5810                         168.0                         24.0   \n",
       "5811                           NaN                          0.0   \n",
       "5812                           NaN                          0.0   \n",
       "5813                           NaN                         79.0   \n",
       "5814                         951.0                          NaN   \n",
       "\n",
       "     beneficiary_race_asian_pi_count beneficiary_race_hispanic_count  \\\n",
       "5809                             NaN                             0.0   \n",
       "5810                             NaN                             NaN   \n",
       "5811                             0.0                             0.0   \n",
       "5812                             0.0                             NaN   \n",
       "5813                             NaN                             NaN   \n",
       "5814                             NaN                             NaN   \n",
       "\n",
       "     beneficiary_race_nat_ind_count beneficiary_race_other_count  \\\n",
       "5809                            0.0                          NaN   \n",
       "5810                            0.0                          NaN   \n",
       "5811                            0.0                          NaN   \n",
       "5812                            0.0                          0.0   \n",
       "5813                            NaN                          0.0   \n",
       "5814                            NaN                         19.0   \n",
       "\n",
       "      beneficiary_nondual_count  beneficiary_dual_count  \\\n",
       "5809                        NaN                     NaN   \n",
       "5810                      146.0                    58.0   \n",
       "5811                        NaN                     NaN   \n",
       "5812                        NaN                     NaN   \n",
       "5813                       75.0                    78.0   \n",
       "5814                      948.0                    35.0   \n",
       "\n",
       "      beneficiary_average_risk_score  \n",
       "5809                          2.5471  \n",
       "5810                          2.0090  \n",
       "5811                          0.9592  \n",
       "5812                          1.3618  \n",
       "5813                          2.0090  \n",
       "5814                          1.2319  \n",
       "\n",
       "[6 rows x 84 columns]"
      ]
     },
     "execution_count": 5,
     "metadata": {},
     "output_type": "execute_result"
    }
   ],
   "source": [
    "# 2.2 \n",
    "part_d.tail(6)"
   ]
  },
  {
   "cell_type": "markdown",
   "metadata": {},
   "source": [
    "## Question 3\n",
    "This question has 4 parts:\n",
    "1. Use the `info()` function to examine the DataFrame from a high level. Take a moment to look at the number of non-null values and the datatypes of each column. \n",
    "2. How many non-null values does the `npi` column have? (Use the output of the `info()` function to answer this question.)\n",
    "3. What is the data type of the `npi` column? (Use the output of the `info()` function to answer this question.)\n",
    "4. The purpose of this question is to understand the data you are looking at. The `npi` stands for National Provider Identifier. Please provide a one or two sentence description of the NPI - you may use a web search (google/wikipedia/etc...) to answer this question. "
   ]
  },
  {
   "cell_type": "code",
   "execution_count": 6,
   "metadata": {},
   "outputs": [
    {
     "name": "stdout",
     "output_type": "stream",
     "text": [
      "<class 'pandas.core.frame.DataFrame'>\n",
      "RangeIndex: 5815 entries, 0 to 5814\n",
      "Data columns (total 84 columns):\n",
      "npi                                 5815 non-null int64\n",
      "nppes_provider_last_org_name        5815 non-null object\n",
      "nppes_provider_first_name           5815 non-null object\n",
      "nppes_provider_mi                   4074 non-null object\n",
      "nppes_credentials                   5461 non-null object\n",
      "nppes_provider_gender               5815 non-null object\n",
      "nppes_entity_code                   5815 non-null object\n",
      "nppes_provider_street1              5815 non-null object\n",
      "nppes_provider_street2              2107 non-null object\n",
      "nppes_provider_city                 5815 non-null object\n",
      "nppes_provider_zip5                 5815 non-null float64\n",
      "nppes_provider_zip4                 5031 non-null float64\n",
      "nppes_provider_state                5815 non-null object\n",
      "nppes_provider_country              5815 non-null object\n",
      "specialty_description               5815 non-null object\n",
      "description_flag                    5815 non-null object\n",
      "medicare_prvdr_enroll_status        5815 non-null object\n",
      "total_claim_count                   5815 non-null int64\n",
      "total_30_day_fill_count             5815 non-null float64\n",
      "total_drug_cost                     5815 non-null float64\n",
      "total_day_supply                    5815 non-null int64\n",
      "bene_count                          5186 non-null float64\n",
      "ge65_suppress_flag                  1295 non-null object\n",
      "total_claim_count_ge65              4520 non-null float64\n",
      "total_30_day_fill_count_ge65        4520 non-null float64\n",
      "total_drug_cost_ge65                4520 non-null float64\n",
      "total_day_supply_ge65               4520 non-null float64\n",
      "bene_count_ge65_suppress_flag       2595 non-null object\n",
      "bene_count_ge65                     3220 non-null float64\n",
      "brand_suppress_flag                 2324 non-null object\n",
      "brand_claim_count                   3491 non-null float64\n",
      "brand_drug_cost                     3491 non-null float64\n",
      "generic_suppress_flag               1573 non-null object\n",
      "generic_claim_count                 4242 non-null float64\n",
      "generic_drug_cost                   4242 non-null float64\n",
      "other_suppress_flag                 1224 non-null object\n",
      "other_claim_count                   4591 non-null float64\n",
      "other_drug_cost                     4591 non-null float64\n",
      "mapd_suppress_flag                  1096 non-null object\n",
      "mapd_claim_count                    4719 non-null float64\n",
      "mapd_drug_cost                      4719 non-null float64\n",
      "pdp_suppress_flag                   1096 non-null object\n",
      "pdp_claim_count                     4719 non-null float64\n",
      "pdp_drug_cost                       4719 non-null float64\n",
      "lis_suppress_flag                   1191 non-null object\n",
      "lis_claim_count                     4624 non-null float64\n",
      "lis_drug_cost                       4624 non-null float64\n",
      "nonlis_suppress_flag                1191 non-null object\n",
      "nonlis_claim_count                  4624 non-null float64\n",
      "nonlis_drug_cost                    4624 non-null float64\n",
      "opioid_claim_count                  4225 non-null float64\n",
      "opioid_drug_cost                    4225 non-null float64\n",
      "opioid_day_supply                   4225 non-null float64\n",
      "opioid_bene_count                   3954 non-null float64\n",
      "opioid_prescriber_rate              4225 non-null float64\n",
      "la_opioid_claim_count               5099 non-null float64\n",
      "la_opioid_drug_cost                 5099 non-null float64\n",
      "la_opioid_day_supply                5099 non-null float64\n",
      "la_opioid_bene_count                4703 non-null float64\n",
      "la_opioid_prescriber_rate           3340 non-null float64\n",
      "antibiotic_claim_count              4112 non-null float64\n",
      "antibiotic_drug_cost                4112 non-null float64\n",
      "antibiotic_bene_count               3812 non-null float64\n",
      "antipsych_ge65_suppress_flag        788 non-null object\n",
      "antipsych_claim_count_ge65          5027 non-null float64\n",
      "antipsych_drug_cost_ge65            5027 non-null float64\n",
      "antipsych_bene_ge65_suppress_flg    1254 non-null object\n",
      "antipsych_bene_count_ge65           4561 non-null float64\n",
      "average_age_of_beneficiaries        5186 non-null float64\n",
      "beneficiary_age_less_65_count       3220 non-null float64\n",
      "beneficiary_age_65_74_count         2675 non-null float64\n",
      "beneficiary_age_75_84_count         1815 non-null float64\n",
      "beneficiary_age_greater_84_count    1935 non-null float64\n",
      "beneficiary_female_count            4157 non-null float64\n",
      "beneficiary_male_count              4157 non-null float64\n",
      "beneficiary_race_white_count        2848 non-null float64\n",
      "beneficiary_race_black_count        2004 non-null float64\n",
      "beneficiary_race_asian_pi_count     2585 non-null float64\n",
      "beneficiary_race_hispanic_count     2006 non-null float64\n",
      "beneficiary_race_nat_ind_count      4176 non-null float64\n",
      "beneficiary_race_other_count        1784 non-null float64\n",
      "beneficiary_nondual_count           3455 non-null float64\n",
      "beneficiary_dual_count              3455 non-null float64\n",
      "beneficiary_average_risk_score      5186 non-null float64\n",
      "dtypes: float64(56), int64(3), object(25)\n",
      "memory usage: 3.7+ MB\n"
     ]
    }
   ],
   "source": [
    "# 3.1 \n",
    "part_d.info() "
   ]
  },
  {
   "cell_type": "markdown",
   "metadata": {},
   "source": [
    "2. How many non-null values does the `npi` column have? (Use the output of the `info()` function to answer this question.)\n",
    "3. What is the data type of the `npi` column? (Use the output of the `info()` function to answer this question.)\n",
    "4. The purpose of this question is to understand the data you are looking at. The `npi` stands for National Provider Identifier. Please provide a one or two sentence description of the NPI - you may use a web search (google/wikipedia/etc...) to answer this question. "
   ]
  },
  {
   "cell_type": "code",
   "execution_count": 7,
   "metadata": {},
   "outputs": [
    {
     "name": "stdout",
     "output_type": "stream",
     "text": [
      "The `npi` column have 5815 non-null values.\n"
     ]
    }
   ],
   "source": [
    "# 3.2 \n",
    "print(\"The `npi` column have 5815 non-null values.\")\n",
    "\n",
    "\n",
    "\n",
    "# 3.4 The National Provider Identifier (NPI) is a Health Insurance Portability \n",
    "#     and Accountability Act (HIPAA) Administrative Simplification Standard. \n",
    "#     The NPI is a unique identification number for covered health care providers. "
   ]
  },
  {
   "cell_type": "code",
   "execution_count": 8,
   "metadata": {},
   "outputs": [
    {
     "name": "stdout",
     "output_type": "stream",
     "text": [
      "The data type of the `npi` column is int64.\n"
     ]
    }
   ],
   "source": [
    "# 3.3 \n",
    "print(\"The data type of the `npi` column is int64.\")"
   ]
  },
  {
   "cell_type": "code",
   "execution_count": 9,
   "metadata": {},
   "outputs": [
    {
     "name": "stdout",
     "output_type": "stream",
     "text": [
      "The National Provider Identifier (NPI) is a Health Insurance Portability and Accountability Act (HIPAA) Administrative Simplification Standard. The NPI is a unique identification number for covered health care providers. \n"
     ]
    }
   ],
   "source": [
    "# 3.4 \n",
    "print(\"The National Provider Identifier (NPI) is a Health Insurance Portability and Accountability Act (HIPAA) Administrative Simplification Standard. The NPI is a unique identification number for covered health care providers. \")\n"
   ]
  },
  {
   "cell_type": "markdown",
   "metadata": {},
   "source": [
    "## Question 4\n",
    "Take a look at the `nppes_provider_state` column. Compute the number of unique values in this column using at least two different methods."
   ]
  },
  {
   "cell_type": "code",
   "execution_count": 10,
   "metadata": {},
   "outputs": [
    {
     "data": {
      "text/plain": [
       "55"
      ]
     },
     "execution_count": 10,
     "metadata": {},
     "output_type": "execute_result"
    }
   ],
   "source": [
    "# method 1 \n",
    "part_d['nppes_provider_state'].nunique()"
   ]
  },
  {
   "cell_type": "code",
   "execution_count": 11,
   "metadata": {},
   "outputs": [
    {
     "data": {
      "text/plain": [
       "55"
      ]
     },
     "execution_count": 11,
     "metadata": {},
     "output_type": "execute_result"
    }
   ],
   "source": [
    "# method 2 \n",
    "len(part_d.nppes_provider_state.unique())"
   ]
  },
  {
   "cell_type": "markdown",
   "metadata": {},
   "source": [
    "## Question 5\n",
    "Let's take a look at the `specialty_description` column. Use the `value_counts()` method to determine the TOP 5 specialties in the dataset as well as their frequencies."
   ]
  },
  {
   "cell_type": "code",
   "execution_count": 12,
   "metadata": {},
   "outputs": [
    {
     "data": {
      "text/plain": [
       "Nurse Practitioner    785\n",
       "Dentist               647\n",
       "Internal Medicine     626\n",
       "Family Practice       565\n",
       "Name: specialty_description, dtype: int64"
      ]
     },
     "execution_count": 12,
     "metadata": {},
     "output_type": "execute_result"
    }
   ],
   "source": [
    "part_d['specialty_description'].value_counts()[0:4]"
   ]
  },
  {
   "cell_type": "markdown",
   "metadata": {},
   "source": [
    "## Question 6\n",
    "This question has four parts:\n",
    "1. Define a variable `N` equal to the number of rows in the DataFrame, using the DataFrame `len` or `shape` methods.\n",
    "2. Append the `cumsum()` function to the output of the `value_counts()` function on the `specialty_description` field  and divide the output by `N` to obtain the cumulative ratio to the total count. \n",
    "3. Create a boolean variable (eg a mask) which resolves to `True` if the cumulative sum is less than 75%, else `False`.\n",
    "4. Use this boolean mask to filter the output of `value_counts()` to identify the records that contribute to the first 75% of all specialities."
   ]
  },
  {
   "cell_type": "code",
   "execution_count": 13,
   "metadata": {
    "scrolled": true
   },
   "outputs": [],
   "source": [
    "# 6.1 N gives number of row count\n",
    "N = part_d.shape[0]   \n",
    "\n",
    "#6.2   cumulative_ratio\n",
    "cumulative_ratio = part_d['specialty_description'].value_counts().cumsum()/N\n"
   ]
  },
  {
   "cell_type": "code",
   "execution_count": 14,
   "metadata": {},
   "outputs": [],
   "source": [
    "# 6.3 & 6.4 \n",
    "mask  = list()\n",
    "for i in cumulative_ratio:\n",
    "    if i > 0.75:\n",
    "        mask.append(True)\n",
    "    else:\n",
    "        mask.append(False)"
   ]
  },
  {
   "cell_type": "code",
   "execution_count": 15,
   "metadata": {},
   "outputs": [
    {
     "data": {
      "text/html": [
       "<div>\n",
       "<style scoped>\n",
       "    .dataframe tbody tr th:only-of-type {\n",
       "        vertical-align: middle;\n",
       "    }\n",
       "\n",
       "    .dataframe tbody tr th {\n",
       "        vertical-align: top;\n",
       "    }\n",
       "\n",
       "    .dataframe thead th {\n",
       "        text-align: right;\n",
       "    }\n",
       "</style>\n",
       "<table border=\"1\" class=\"dataframe\">\n",
       "  <thead>\n",
       "    <tr style=\"text-align: right;\">\n",
       "      <th></th>\n",
       "      <th>specialty_description</th>\n",
       "      <th>Top75%</th>\n",
       "    </tr>\n",
       "  </thead>\n",
       "  <tbody>\n",
       "    <tr>\n",
       "      <th>Nurse Practitioner</th>\n",
       "      <td>0.134996</td>\n",
       "      <td>False</td>\n",
       "    </tr>\n",
       "    <tr>\n",
       "      <th>Dentist</th>\n",
       "      <td>0.246260</td>\n",
       "      <td>False</td>\n",
       "    </tr>\n",
       "    <tr>\n",
       "      <th>Internal Medicine</th>\n",
       "      <td>0.353912</td>\n",
       "      <td>False</td>\n",
       "    </tr>\n",
       "    <tr>\n",
       "      <th>Family Practice</th>\n",
       "      <td>0.451075</td>\n",
       "      <td>False</td>\n",
       "    </tr>\n",
       "    <tr>\n",
       "      <th>Physician Assistant</th>\n",
       "      <td>0.527773</td>\n",
       "      <td>False</td>\n",
       "    </tr>\n",
       "    <tr>\n",
       "      <th>Student in an Organized Health Care Education/Training Program</th>\n",
       "      <td>0.570765</td>\n",
       "      <td>False</td>\n",
       "    </tr>\n",
       "    <tr>\n",
       "      <th>Emergency Medicine</th>\n",
       "      <td>0.613758</td>\n",
       "      <td>False</td>\n",
       "    </tr>\n",
       "    <tr>\n",
       "      <th>Obstetrics &amp; Gynecology</th>\n",
       "      <td>0.648667</td>\n",
       "      <td>False</td>\n",
       "    </tr>\n",
       "    <tr>\n",
       "      <th>Optometry</th>\n",
       "      <td>0.677558</td>\n",
       "      <td>False</td>\n",
       "    </tr>\n",
       "    <tr>\n",
       "      <th>Psychiatry</th>\n",
       "      <td>0.703697</td>\n",
       "      <td>False</td>\n",
       "    </tr>\n",
       "    <tr>\n",
       "      <th>General Surgery</th>\n",
       "      <td>0.724506</td>\n",
       "      <td>False</td>\n",
       "    </tr>\n",
       "    <tr>\n",
       "      <th>Ophthalmology</th>\n",
       "      <td>0.744282</td>\n",
       "      <td>False</td>\n",
       "    </tr>\n",
       "  </tbody>\n",
       "</table>\n",
       "</div>"
      ],
      "text/plain": [
       "                                                    specialty_description  \\\n",
       "Nurse Practitioner                                               0.134996   \n",
       "Dentist                                                          0.246260   \n",
       "Internal Medicine                                                0.353912   \n",
       "Family Practice                                                  0.451075   \n",
       "Physician Assistant                                              0.527773   \n",
       "Student in an Organized Health Care Education/T...               0.570765   \n",
       "Emergency Medicine                                               0.613758   \n",
       "Obstetrics & Gynecology                                          0.648667   \n",
       "Optometry                                                        0.677558   \n",
       "Psychiatry                                                       0.703697   \n",
       "General Surgery                                                  0.724506   \n",
       "Ophthalmology                                                    0.744282   \n",
       "\n",
       "                                                    Top75%  \n",
       "Nurse Practitioner                                   False  \n",
       "Dentist                                              False  \n",
       "Internal Medicine                                    False  \n",
       "Family Practice                                      False  \n",
       "Physician Assistant                                  False  \n",
       "Student in an Organized Health Care Education/T...   False  \n",
       "Emergency Medicine                                   False  \n",
       "Obstetrics & Gynecology                              False  \n",
       "Optometry                                            False  \n",
       "Psychiatry                                           False  \n",
       "General Surgery                                      False  \n",
       "Ophthalmology                                        False  "
      ]
     },
     "execution_count": 15,
     "metadata": {},
     "output_type": "execute_result"
    }
   ],
   "source": [
    "cumulative_ratio_df = cumulative_ratio.to_frame()\n",
    "cumulative_ratio_df['Top75%']=mask\n",
    "cumulative_ratio_df[cumulative_ratio_df['Top75%']==False]"
   ]
  },
  {
   "cell_type": "code",
   "execution_count": null,
   "metadata": {},
   "outputs": [],
   "source": []
  },
  {
   "cell_type": "markdown",
   "metadata": {},
   "source": [
    "## Question 7:\n",
    "Take a look at these two columns: `total_claim_count` and `opioid_claim_count`. Define a new column that stores the ratio of the two, eg:\n",
    "```python\n",
    "part_d['opioid_claim_rate'] = part_d['opioid_claim_count']/part_d['total_claim_count']\n",
    "```\n",
    "Let us define **high opioid providers** as those who have an `opioid_claim_rate` that is greater than or equal to 50%. This question has three parts:\n",
    "1. Run the describe method on the `opioid_claim_rate` column and note the statistics.\n",
    "2. Use TWO different methods to calculate how many **high opioid providers** there are in the dataset. (Hint: you can use the sum of a boolean variable for one method and the size of a filtered dataset for the other method).\n",
    "3. Use TWO different methods to identify the top 3 states that have the highest number of **high opioid providers**. (Hint: you can use value_counts for one method and groupby for the other method). "
   ]
  },
  {
   "cell_type": "code",
   "execution_count": 16,
   "metadata": {},
   "outputs": [],
   "source": [
    "part_d['opioid_claim_rate'] = part_d['opioid_claim_count']/part_d['total_claim_count']"
   ]
  },
  {
   "cell_type": "code",
   "execution_count": 17,
   "metadata": {},
   "outputs": [
    {
     "data": {
      "text/plain": [
       "count    4225.000000\n",
       "mean        0.097227\n",
       "std         0.164038\n",
       "min         0.000000\n",
       "25%         0.000000\n",
       "50%         0.022523\n",
       "75%         0.113238\n",
       "max         1.000000\n",
       "Name: opioid_claim_rate, dtype: float64"
      ]
     },
     "execution_count": 17,
     "metadata": {},
     "output_type": "execute_result"
    }
   ],
   "source": [
    "# 7.1 \n",
    "part_d['opioid_claim_rate'].describe()"
   ]
  },
  {
   "cell_type": "code",
   "execution_count": 18,
   "metadata": {},
   "outputs": [
    {
     "name": "stdout",
     "output_type": "stream",
     "text": [
      "209\n"
     ]
    }
   ],
   "source": [
    "# 7.2 method 1.  \n",
    "\n",
    "high_opioid_providers = list()\n",
    "\n",
    "for i in part_d['opioid_claim_rate']:\n",
    "    if i >= 0.5:\n",
    "        high_opioid_providers.append(True)\n",
    "print(len(high_opioid_providers))"
   ]
  },
  {
   "cell_type": "code",
   "execution_count": 19,
   "metadata": {},
   "outputs": [
    {
     "data": {
      "text/plain": [
       "209"
      ]
     },
     "execution_count": 19,
     "metadata": {},
     "output_type": "execute_result"
    }
   ],
   "source": [
    "# 7.2 method 2.  \n",
    "\n",
    "part_d['opioid_claim_rate'][part_d['opioid_claim_rate']>= 0.5].shape[0]"
   ]
  },
  {
   "cell_type": "code",
   "execution_count": 20,
   "metadata": {},
   "outputs": [
    {
     "data": {
      "text/plain": [
       "CA    19\n",
       "FL    15\n",
       "MI    12\n",
       "Name: nppes_provider_state, dtype: int64"
      ]
     },
     "execution_count": 20,
     "metadata": {},
     "output_type": "execute_result"
    }
   ],
   "source": [
    "# 7.3 method 1 \n",
    "\n",
    "part_d[part_d['opioid_claim_rate']>=0.5].loc[:,'nppes_provider_state'].value_counts()[0:3]\n"
   ]
  },
  {
   "cell_type": "code",
   "execution_count": 21,
   "metadata": {},
   "outputs": [
    {
     "data": {
      "text/plain": [
       "nppes_provider_state\n",
       "CA    19\n",
       "FL    15\n",
       "NY    12\n",
       "Name: opioid_claim_rate, dtype: int64"
      ]
     },
     "execution_count": 21,
     "metadata": {},
     "output_type": "execute_result"
    }
   ],
   "source": [
    "# 7.3 method 2\n",
    "\n",
    "part_d[part_d['opioid_claim_rate']>=0.5].groupby('nppes_provider_state').count()['opioid_claim_rate'].sort_values(ascending=False)[:3]\n"
   ]
  },
  {
   "cell_type": "markdown",
   "metadata": {},
   "source": [
    "## Question 8:\n",
    "Using the `opioid_claim_rate` column computed in the previous question:\n",
    "\n",
    "1. Create a new DataFrame `g` that aggregates the `nppes_provider_gender` column using the `groupby` method and the `size` function to output the gender breakdown in the dataset. You can use this code to answer this question:\n",
    "```python\n",
    "g = part_d.groupby('nppes_provider_gender').size().reset_index()\n",
    "```\n",
    "2. Use the `rename` method to rename the columns of DataFrame `g` to *gender* and *count*.\n",
    "3. Now compute the aggregation of the dataset by gender but filtered to the **high opioid providers**. Name the DataFrame `g2`. Rename the columns to *gender* and *high_opioid_count*.\n",
    "4. Join the DataFrames g and g2 using the gender column as the key. The final result should look like this:\n",
    "```\n",
    "gender\tcount\thigh_opioid_count\n",
    "\tF\t2458\t62\n",
    "\tM\t3357\t147\n",
    "```\n",
    "5. Compute the ratio of `high_opioid_count` to `count` for each row and note the difference"
   ]
  },
  {
   "cell_type": "code",
   "execution_count": 22,
   "metadata": {},
   "outputs": [
    {
     "data": {
      "text/html": [
       "<div>\n",
       "<style scoped>\n",
       "    .dataframe tbody tr th:only-of-type {\n",
       "        vertical-align: middle;\n",
       "    }\n",
       "\n",
       "    .dataframe tbody tr th {\n",
       "        vertical-align: top;\n",
       "    }\n",
       "\n",
       "    .dataframe thead th {\n",
       "        text-align: right;\n",
       "    }\n",
       "</style>\n",
       "<table border=\"1\" class=\"dataframe\">\n",
       "  <thead>\n",
       "    <tr style=\"text-align: right;\">\n",
       "      <th></th>\n",
       "      <th>nppes_provider_gender</th>\n",
       "      <th>0</th>\n",
       "    </tr>\n",
       "  </thead>\n",
       "  <tbody>\n",
       "    <tr>\n",
       "      <th>0</th>\n",
       "      <td>F</td>\n",
       "      <td>2458</td>\n",
       "    </tr>\n",
       "    <tr>\n",
       "      <th>1</th>\n",
       "      <td>M</td>\n",
       "      <td>3357</td>\n",
       "    </tr>\n",
       "  </tbody>\n",
       "</table>\n",
       "</div>"
      ],
      "text/plain": [
       "  nppes_provider_gender     0\n",
       "0                     F  2458\n",
       "1                     M  3357"
      ]
     },
     "execution_count": 22,
     "metadata": {},
     "output_type": "execute_result"
    }
   ],
   "source": [
    "# 8.1 create dataframe g\n",
    "g = part_d.groupby('nppes_provider_gender').size().reset_index()\n",
    "g "
   ]
  },
  {
   "cell_type": "code",
   "execution_count": 23,
   "metadata": {},
   "outputs": [
    {
     "data": {
      "text/html": [
       "<div>\n",
       "<style scoped>\n",
       "    .dataframe tbody tr th:only-of-type {\n",
       "        vertical-align: middle;\n",
       "    }\n",
       "\n",
       "    .dataframe tbody tr th {\n",
       "        vertical-align: top;\n",
       "    }\n",
       "\n",
       "    .dataframe thead th {\n",
       "        text-align: right;\n",
       "    }\n",
       "</style>\n",
       "<table border=\"1\" class=\"dataframe\">\n",
       "  <thead>\n",
       "    <tr style=\"text-align: right;\">\n",
       "      <th></th>\n",
       "      <th>gender</th>\n",
       "      <th>count</th>\n",
       "    </tr>\n",
       "  </thead>\n",
       "  <tbody>\n",
       "    <tr>\n",
       "      <th>0</th>\n",
       "      <td>F</td>\n",
       "      <td>2458</td>\n",
       "    </tr>\n",
       "    <tr>\n",
       "      <th>1</th>\n",
       "      <td>M</td>\n",
       "      <td>3357</td>\n",
       "    </tr>\n",
       "  </tbody>\n",
       "</table>\n",
       "</div>"
      ],
      "text/plain": [
       "  gender  count\n",
       "0      F   2458\n",
       "1      M   3357"
      ]
     },
     "execution_count": 23,
     "metadata": {},
     "output_type": "execute_result"
    }
   ],
   "source": [
    "# 8.2 rename the columns in g \n",
    "col1, col2 = g.columns\n",
    "g_new = g.rename(columns={col1: \"gender\", col2: \"count\"})\n",
    "g_new"
   ]
  },
  {
   "cell_type": "code",
   "execution_count": 24,
   "metadata": {},
   "outputs": [
    {
     "data": {
      "text/html": [
       "<div>\n",
       "<style scoped>\n",
       "    .dataframe tbody tr th:only-of-type {\n",
       "        vertical-align: middle;\n",
       "    }\n",
       "\n",
       "    .dataframe tbody tr th {\n",
       "        vertical-align: top;\n",
       "    }\n",
       "\n",
       "    .dataframe thead th {\n",
       "        text-align: right;\n",
       "    }\n",
       "</style>\n",
       "<table border=\"1\" class=\"dataframe\">\n",
       "  <thead>\n",
       "    <tr style=\"text-align: right;\">\n",
       "      <th></th>\n",
       "      <th>gender</th>\n",
       "      <th>high_opioid_count</th>\n",
       "    </tr>\n",
       "  </thead>\n",
       "  <tbody>\n",
       "    <tr>\n",
       "      <th>0</th>\n",
       "      <td>F</td>\n",
       "      <td>62</td>\n",
       "    </tr>\n",
       "    <tr>\n",
       "      <th>1</th>\n",
       "      <td>M</td>\n",
       "      <td>147</td>\n",
       "    </tr>\n",
       "  </tbody>\n",
       "</table>\n",
       "</div>"
      ],
      "text/plain": [
       "  gender  high_opioid_count\n",
       "0      F                 62\n",
       "1      M                147"
      ]
     },
     "execution_count": 24,
     "metadata": {},
     "output_type": "execute_result"
    }
   ],
   "source": [
    "# 8.3 compute the aggregation of the dataset by gender\n",
    "# filtered to the high opioid providers\n",
    "# Rename the columns to gender and high_opioid_count\n",
    "\n",
    "g2 = part_d[part_d['opioid_claim_rate'] >= 0.5].groupby('nppes_provider_gender').count().iloc[:,0:1]\n",
    "\n",
    "g2_new = g2.reset_index().rename(columns = {\"nppes_provider_gender\": \"gender\", \"npi\":\"high_opioid_count\"})\n",
    "g2_new\n"
   ]
  },
  {
   "cell_type": "code",
   "execution_count": 25,
   "metadata": {},
   "outputs": [
    {
     "data": {
      "text/html": [
       "<div>\n",
       "<style scoped>\n",
       "    .dataframe tbody tr th:only-of-type {\n",
       "        vertical-align: middle;\n",
       "    }\n",
       "\n",
       "    .dataframe tbody tr th {\n",
       "        vertical-align: top;\n",
       "    }\n",
       "\n",
       "    .dataframe thead th {\n",
       "        text-align: right;\n",
       "    }\n",
       "</style>\n",
       "<table border=\"1\" class=\"dataframe\">\n",
       "  <thead>\n",
       "    <tr style=\"text-align: right;\">\n",
       "      <th></th>\n",
       "      <th>count</th>\n",
       "      <th>high_opioid_count</th>\n",
       "    </tr>\n",
       "    <tr>\n",
       "      <th>gender</th>\n",
       "      <th></th>\n",
       "      <th></th>\n",
       "    </tr>\n",
       "  </thead>\n",
       "  <tbody>\n",
       "    <tr>\n",
       "      <th>F</th>\n",
       "      <td>2458</td>\n",
       "      <td>62</td>\n",
       "    </tr>\n",
       "    <tr>\n",
       "      <th>M</th>\n",
       "      <td>3357</td>\n",
       "      <td>147</td>\n",
       "    </tr>\n",
       "  </tbody>\n",
       "</table>\n",
       "</div>"
      ],
      "text/plain": [
       "        count  high_opioid_count\n",
       "gender                          \n",
       "F        2458                 62\n",
       "M        3357                147"
      ]
     },
     "execution_count": 25,
     "metadata": {},
     "output_type": "execute_result"
    }
   ],
   "source": [
    "# 8.4 Join the DataFrames g and g2 using the gender column as the key\n",
    "\n",
    "g3 = g_new.set_index(\"gender\").join(g2_new.set_index(\"gender\"))\n",
    "g3"
   ]
  },
  {
   "cell_type": "code",
   "execution_count": 26,
   "metadata": {},
   "outputs": [
    {
     "name": "stdout",
     "output_type": "stream",
     "text": [
      "In each gender group, more percentage of males who are high opioid providers is higher than felmale's.\n"
     ]
    }
   ],
   "source": [
    "# 8.5 Compute the ratio of high_opioid_count to count for each row and note the difference\n",
    "\n",
    "g3[\"ratio_hoc_count\"] = g3[\"high_opioid_count\"]/ g3[\"count\"]\n",
    "g3\n",
    "\n",
    "print(\"In each gender group, more percentage of males who are high opioid providers is higher than felmale's.\")\n"
   ]
  },
  {
   "cell_type": "markdown",
   "metadata": {},
   "source": [
    "## Question 9:\n",
    "The Office of Inspector General ([OIG](https://oig.hhs.gov/)) has the authority to **exclude** individuals and entities from Federally funded health care programs. To be excluded is quite serious, as you can see from their website:\n",
    "\n",
    ">The OIG maintains a list of all currently excluded individuals and entities called the List of Excluded Individuals/Entities (LEIE). Anyone who hires an individual or entity on the LEIE may be subject to civil monetary penalties (CMP). To avoid CMP liability, health care entities should routinely check the list to ensure that new hires and current employees are not on it.\n",
    "\n",
    "This list is publicaly available, [here](https://oig.hhs.gov/exclusions/exclusions_list.asp). I have downloaded this file in its entirety (in December 2020) and have stripped it down to the columns we need.\n",
    "\n",
    "Load the provided file into a DataFrame, named `exclusions`:\n",
    "\n",
    "```python\n",
    "exclusions = pd.read_csv('physicians_exclusions_sample3.csv')\n",
    "```\n",
    "This question has a number of parts:\n",
    "\n",
    "1. Print the number of rows and columns in the exclusions dataset.\n",
    "2. Display the first 6 rows the DataFrame. \n",
    "3. Display 3 random rows of the DataFrame using the `sample` method.\n",
    "4. Use the `nunique` method to determine the number of unique NPIs. Compare this to the size of the dataset - what do you observe?\n",
    "5. Are there any NULL `NPI` values?\n",
    "6. What is the most frequent `NPI` value?\n",
    "7. Apply the `unique` method to the NPI column and convert the outcome to a list of NPIs (hint use the `tolist` method). Store the output in a variable called `npis`. What is the length of `npis`?\n",
    "8. Apply the `isin` method to `part_d` to tag the rows whose NPI is in the list of excluded NPIs. You can use the following code. How many records are there in `excluded1`?\n",
    "```python\n",
    "excluded1 = part_d[part_d['npi'].isin(npis)]\n",
    "```"
   ]
  },
  {
   "cell_type": "code",
   "execution_count": 27,
   "metadata": {},
   "outputs": [],
   "source": [
    "exclusions = pd.read_csv('physicians_exclusions_sample3.csv')"
   ]
  },
  {
   "cell_type": "code",
   "execution_count": 28,
   "metadata": {},
   "outputs": [
    {
     "name": "stdout",
     "output_type": "stream",
     "text": [
      "number of rows 69858\n",
      "number of columns 4\n"
     ]
    }
   ],
   "source": [
    "# 9.1 Print the number of rows and columns in the exclusions dataset\n",
    "exclusions_row = exclusions.shape[0]   \n",
    "exclusions_col = exclusions.shape[1] \n",
    "\n",
    "print('number of rows', exclusions_row)\n",
    "print('number of columns', exclusions_col)"
   ]
  },
  {
   "cell_type": "code",
   "execution_count": 29,
   "metadata": {},
   "outputs": [
    {
     "data": {
      "text/html": [
       "<div>\n",
       "<style scoped>\n",
       "    .dataframe tbody tr th:only-of-type {\n",
       "        vertical-align: middle;\n",
       "    }\n",
       "\n",
       "    .dataframe tbody tr th {\n",
       "        vertical-align: top;\n",
       "    }\n",
       "\n",
       "    .dataframe thead th {\n",
       "        text-align: right;\n",
       "    }\n",
       "</style>\n",
       "<table border=\"1\" class=\"dataframe\">\n",
       "  <thead>\n",
       "    <tr style=\"text-align: right;\">\n",
       "      <th></th>\n",
       "      <th>LASTNAME</th>\n",
       "      <th>FIRSTNAME</th>\n",
       "      <th>STATE</th>\n",
       "      <th>NPI</th>\n",
       "    </tr>\n",
       "  </thead>\n",
       "  <tbody>\n",
       "    <tr>\n",
       "      <th>0</th>\n",
       "      <td>AALDERS</td>\n",
       "      <td>NANCY</td>\n",
       "      <td>IL</td>\n",
       "      <td>0</td>\n",
       "    </tr>\n",
       "    <tr>\n",
       "      <th>1</th>\n",
       "      <td>AALTONEN</td>\n",
       "      <td>NICKOLAS</td>\n",
       "      <td>WA</td>\n",
       "      <td>0</td>\n",
       "    </tr>\n",
       "    <tr>\n",
       "      <th>2</th>\n",
       "      <td>AAMIR</td>\n",
       "      <td>MUHAMMAD</td>\n",
       "      <td>MI</td>\n",
       "      <td>0</td>\n",
       "    </tr>\n",
       "    <tr>\n",
       "      <th>3</th>\n",
       "      <td>AARON</td>\n",
       "      <td>ALINA</td>\n",
       "      <td>AZ</td>\n",
       "      <td>0</td>\n",
       "    </tr>\n",
       "    <tr>\n",
       "      <th>4</th>\n",
       "      <td>AARON</td>\n",
       "      <td>CHRISTOPHER</td>\n",
       "      <td>PA</td>\n",
       "      <td>0</td>\n",
       "    </tr>\n",
       "    <tr>\n",
       "      <th>5</th>\n",
       "      <td>AARON</td>\n",
       "      <td>DEBORAH</td>\n",
       "      <td>TX</td>\n",
       "      <td>0</td>\n",
       "    </tr>\n",
       "  </tbody>\n",
       "</table>\n",
       "</div>"
      ],
      "text/plain": [
       "   LASTNAME    FIRSTNAME STATE  NPI\n",
       "0   AALDERS        NANCY    IL    0\n",
       "1  AALTONEN     NICKOLAS    WA    0\n",
       "2     AAMIR     MUHAMMAD    MI    0\n",
       "3     AARON        ALINA    AZ    0\n",
       "4     AARON  CHRISTOPHER    PA    0\n",
       "5     AARON      DEBORAH    TX    0"
      ]
     },
     "execution_count": 29,
     "metadata": {},
     "output_type": "execute_result"
    }
   ],
   "source": [
    "# 9.2 the first 6 rows the DataFrame\n",
    "exclusions.head(6)"
   ]
  },
  {
   "cell_type": "code",
   "execution_count": 30,
   "metadata": {},
   "outputs": [
    {
     "data": {
      "text/html": [
       "<div>\n",
       "<style scoped>\n",
       "    .dataframe tbody tr th:only-of-type {\n",
       "        vertical-align: middle;\n",
       "    }\n",
       "\n",
       "    .dataframe tbody tr th {\n",
       "        vertical-align: top;\n",
       "    }\n",
       "\n",
       "    .dataframe thead th {\n",
       "        text-align: right;\n",
       "    }\n",
       "</style>\n",
       "<table border=\"1\" class=\"dataframe\">\n",
       "  <thead>\n",
       "    <tr style=\"text-align: right;\">\n",
       "      <th></th>\n",
       "      <th>LASTNAME</th>\n",
       "      <th>FIRSTNAME</th>\n",
       "      <th>STATE</th>\n",
       "      <th>NPI</th>\n",
       "    </tr>\n",
       "  </thead>\n",
       "  <tbody>\n",
       "    <tr>\n",
       "      <th>48704</th>\n",
       "      <td>PEREZ</td>\n",
       "      <td>ALDO</td>\n",
       "      <td>FL</td>\n",
       "      <td>0</td>\n",
       "    </tr>\n",
       "    <tr>\n",
       "      <th>8305</th>\n",
       "      <td>BUCHFINK</td>\n",
       "      <td>KYLE</td>\n",
       "      <td>OK</td>\n",
       "      <td>0</td>\n",
       "    </tr>\n",
       "    <tr>\n",
       "      <th>48953</th>\n",
       "      <td>PERRY</td>\n",
       "      <td>MICHAEL</td>\n",
       "      <td>TX</td>\n",
       "      <td>0</td>\n",
       "    </tr>\n",
       "  </tbody>\n",
       "</table>\n",
       "</div>"
      ],
      "text/plain": [
       "       LASTNAME FIRSTNAME STATE  NPI\n",
       "48704     PEREZ      ALDO    FL    0\n",
       "8305   BUCHFINK      KYLE    OK    0\n",
       "48953     PERRY   MICHAEL    TX    0"
      ]
     },
     "execution_count": 30,
     "metadata": {},
     "output_type": "execute_result"
    }
   ],
   "source": [
    "# 9.3 Display 3 random rows of the DataFrame using the sample method\n",
    "exclusions.sample(n =3)"
   ]
  },
  {
   "cell_type": "code",
   "execution_count": 31,
   "metadata": {},
   "outputs": [
    {
     "name": "stdout",
     "output_type": "stream",
     "text": [
      "5200\n",
      "There are 69858 NPIs in total from the dataset, but the unique NPI are 5200. This means that there are 64,658 NPIs are repeated values.\n"
     ]
    }
   ],
   "source": [
    "# 9.4 Use the nunique method to determine the number of unique NPIs. \n",
    "# Compare this to the size of the dataset - what do you observe?\n",
    "\n",
    "print(exclusions['NPI'].nunique())\n",
    "print(\"There are 69858 NPIs in total from the dataset, but the unique NPI are 5200. This means that there are 64,658 NPIs are repeated values.\")\n",
    "\n"
   ]
  },
  {
   "cell_type": "code",
   "execution_count": 32,
   "metadata": {},
   "outputs": [
    {
     "name": "stdout",
     "output_type": "stream",
     "text": [
      "False\n",
      "No null value\n"
     ]
    }
   ],
   "source": [
    "# 9.5 Are there any NULL NPI values?\n",
    "print(exclusions['NPI'].isnull().values.any())\n",
    "print(\"No null value\")"
   ]
  },
  {
   "cell_type": "code",
   "execution_count": 33,
   "metadata": {},
   "outputs": [
    {
     "name": "stdout",
     "output_type": "stream",
     "text": [
      "0 is the most frequent NPI value. \n"
     ]
    }
   ],
   "source": [
    "# 9.6 What is the most frequent NPI value?\n",
    "exclusions['NPI'].value_counts().idxmax()   \n",
    "print(\"0 is the most frequent NPI value. \")\n"
   ]
  },
  {
   "cell_type": "code",
   "execution_count": 34,
   "metadata": {},
   "outputs": [
    {
     "data": {
      "text/plain": [
       "5200"
      ]
     },
     "execution_count": 34,
     "metadata": {},
     "output_type": "execute_result"
    }
   ],
   "source": [
    "# 9.7 Apply the unique method to the NPI column and \n",
    "# convert the outcome to a list of NPIs (hint use the tolist method). \n",
    "# Store the output in a variable called npis. What is the length of npis?\n",
    "\n",
    "unique_npi = exclusions['NPI'].unique().tolist()\n",
    "len(unique_npi)"
   ]
  },
  {
   "cell_type": "code",
   "execution_count": 35,
   "metadata": {},
   "outputs": [
    {
     "data": {
      "text/plain": [
       "2"
      ]
     },
     "execution_count": 35,
     "metadata": {},
     "output_type": "execute_result"
    }
   ],
   "source": [
    "# 9.8 Apply the isin method to part_d to tag the rows whose NPI is in the list of excluded NPIs. \n",
    "# You can use the following code. How many records are there in excluded1?\n",
    "\n",
    "npi_checker = part_d[part_d['npi'].isin(unique_npi)]\n",
    "npi_checker.shape[0] # row in npi_checker"
   ]
  },
  {
   "cell_type": "code",
   "execution_count": null,
   "metadata": {},
   "outputs": [],
   "source": []
  },
  {
   "cell_type": "markdown",
   "metadata": {},
   "source": [
    "## Question 10\n",
    "In question 9 we searched for records in the part_d DataFrame whose NPI was in the exclusions dataset. Matching across the NPI yielded only 2 excluded providers. This seems suspicious. The problem is probably due to the fact that so many of the NPIs in the excluded dataset are marked as `0`. Perhaps we can do better by matching across first and last names. Let's do that in these steps.\n",
    "1. As a sanity check, let's first do a merge between the two datasets on NPI. Your results should confirm the result obtained in question 9. For convenience, define this list of columns:\n",
    "```python\n",
    "cols = [\n",
    "    'npi', \n",
    "    'nppes_provider_first_name', \n",
    "    'nppes_provider_last_org_name', \n",
    "    'nppes_provider_state', \n",
    "    'NPI',\n",
    "    'FIRSTNAME',\n",
    "    'LASTNAME',\n",
    "    'STATE',\n",
    "    'opioid_claim_rate'\n",
    "]\n",
    "```\n",
    "Perform the merge and display the output for the columns in `cols`. You can use the following code to answer this question:\n",
    "```python\n",
    "excluded2 = pd.merge(left = part_d, right = exclusions, how = 'inner', \n",
    "         left_on = ['npi'],\n",
    "         right_on = ['NPI']\n",
    "        )\n",
    "excluded2[cols]\n",
    "```\n",
    "Your results should match the results from Question 9.\n",
    "\n",
    "\n",
    "2. Since we are going to match across names, let's first convert the applicable columns to upper case and strip out any leading or trailing spaces. You can use the following code to answer this question but you'll need to apply it to the remaining first and last name columns, eg 'nppes_provider_first_name', 'nppes_provider_last_org_name', 'FIRSTNAME' and 'LASTNAME'\n",
    "```python\n",
    "part_d['nppes_provider_first_name'] = part_d['nppes_provider_first_name'].str.upper().str.strip()\n",
    "```\n",
    "\n",
    "3. Run another inner join across both datasets using first and last names. My result had 435 rows. Please take a look at the dataset filtering on the columns in `cols` as done above. What do you notice? \n",
    "\n",
    "\n",
    "4. In order to conduct a better quality match, include the state in your join keys. You should now be matching on first name, last name and state. My result had 22 records. I feel more confident in this match since the names and state lines up. You'll notice that some of the providers have 0 `opioid_claim_rate`. This is not that surprising as there are many different kinds of behaviors that a provider can engage in in order to get on the exclusisons list. \n"
   ]
  },
  {
   "cell_type": "code",
   "execution_count": 40,
   "metadata": {},
   "outputs": [
    {
     "data": {
      "text/html": [
       "<div>\n",
       "<style scoped>\n",
       "    .dataframe tbody tr th:only-of-type {\n",
       "        vertical-align: middle;\n",
       "    }\n",
       "\n",
       "    .dataframe tbody tr th {\n",
       "        vertical-align: top;\n",
       "    }\n",
       "\n",
       "    .dataframe thead th {\n",
       "        text-align: right;\n",
       "    }\n",
       "</style>\n",
       "<table border=\"1\" class=\"dataframe\">\n",
       "  <thead>\n",
       "    <tr style=\"text-align: right;\">\n",
       "      <th></th>\n",
       "      <th>npi</th>\n",
       "      <th>nppes_provider_first_name</th>\n",
       "      <th>nppes_provider_last_org_name</th>\n",
       "      <th>nppes_provider_state</th>\n",
       "      <th>NPI</th>\n",
       "      <th>FIRSTNAME</th>\n",
       "      <th>LASTNAME</th>\n",
       "      <th>STATE</th>\n",
       "      <th>opioid_claim_rate</th>\n",
       "    </tr>\n",
       "  </thead>\n",
       "  <tbody>\n",
       "    <tr>\n",
       "      <th>0</th>\n",
       "      <td>1659506111</td>\n",
       "      <td>DESMOND</td>\n",
       "      <td>FRANCIS</td>\n",
       "      <td>NY</td>\n",
       "      <td>1659506111</td>\n",
       "      <td>DESMOND</td>\n",
       "      <td>FRANCIS</td>\n",
       "      <td>NY</td>\n",
       "      <td>0.089926</td>\n",
       "    </tr>\n",
       "    <tr>\n",
       "      <th>1</th>\n",
       "      <td>1770505612</td>\n",
       "      <td>HARRISON</td>\n",
       "      <td>YANG</td>\n",
       "      <td>TN</td>\n",
       "      <td>1770505612</td>\n",
       "      <td>HARRISON</td>\n",
       "      <td>YANG</td>\n",
       "      <td>TN</td>\n",
       "      <td>0.119433</td>\n",
       "    </tr>\n",
       "  </tbody>\n",
       "</table>\n",
       "</div>"
      ],
      "text/plain": [
       "          npi nppes_provider_first_name nppes_provider_last_org_name  \\\n",
       "0  1659506111                   DESMOND                      FRANCIS   \n",
       "1  1770505612                  HARRISON                         YANG   \n",
       "\n",
       "  nppes_provider_state         NPI FIRSTNAME LASTNAME STATE  opioid_claim_rate  \n",
       "0                   NY  1659506111   DESMOND  FRANCIS    NY           0.089926  \n",
       "1                   TN  1770505612  HARRISON     YANG    TN           0.119433  "
      ]
     },
     "execution_count": 40,
     "metadata": {},
     "output_type": "execute_result"
    }
   ],
   "source": [
    "# 10.1 \n",
    "cols = [\n",
    "    'npi', \n",
    "    'nppes_provider_first_name', \n",
    "    'nppes_provider_last_org_name', \n",
    "    'nppes_provider_state', \n",
    "    'NPI',\n",
    "    'FIRSTNAME',\n",
    "    'LASTNAME',\n",
    "    'STATE',\n",
    "    'opioid_claim_rate'\n",
    "]\n",
    "\n",
    "excluded2 = pd.merge(left = part_d, right = exclusions, how = 'inner', \n",
    "      left_on = ['npi'],\n",
    "      right_on = ['NPI']\n",
    "     )\n",
    "excluded2[cols]"
   ]
  },
  {
   "cell_type": "code",
   "execution_count": 37,
   "metadata": {},
   "outputs": [],
   "source": [
    "# 10.2  convert the applicable columns to upper case and \n",
    "#  strip out any leading or trailing spaces  \n",
    "\n",
    "# For part_d dataset\n",
    "part_d['nppes_provider_first_name'] = part_d['nppes_provider_first_name'].str.upper().str.strip()\n",
    "part_d['nppes_provider_last_org_name'] = part_d['nppes_provider_last_org_name'].str.upper().str.strip()\n",
    "\n",
    "# For exclusions dataset\n",
    "exclusions['FIRSTNAME'] = exclusions['FIRSTNAME'].str.upper().str.strip()\n",
    "exclusions['LASTNAME'] = exclusions['LASTNAME'].str.upper().str.strip()\n"
   ]
  },
  {
   "cell_type": "code",
   "execution_count": 45,
   "metadata": {},
   "outputs": [
    {
     "name": "stdout",
     "output_type": "stream",
     "text": [
      "There are 435 rows in the newly merged dataset.\n",
      "I observed that there are many more matching records when we use first & last name to join the datasets.\n"
     ]
    }
   ],
   "source": [
    "# 10.3 Run another inner join across both datasets using first and last names \n",
    "# My result had 435 rows. Please take a look at the dataset filtering on the columns in cols as done above. What do you notice?\n",
    "\n",
    "merge1 = pd.merge(left = part_d, right = exclusions, how = 'inner', \n",
    "      left_on = ['nppes_provider_first_name','nppes_provider_last_org_name'],\n",
    "      right_on = ['FIRSTNAME','LASTNAME'])\n",
    "\n",
    "print(\"There are\", merge1.shape[0], \"rows in the newly merged dataset.\")\n",
    "print(\"I observed that there are many more matching records when we use first & last name to join the datasets.\")\n",
    "\n",
    "\n"
   ]
  },
  {
   "cell_type": "code",
   "execution_count": 48,
   "metadata": {},
   "outputs": [
    {
     "name": "stdout",
     "output_type": "stream",
     "text": [
      "There are 22 records when matching on first name, last name & states.\n"
     ]
    }
   ],
   "source": [
    "# 10.4 You should now be matching on first name, last name and state. \n",
    "# My result had 22 records. \n",
    "\n",
    "merge2 = pd.merge(left = part_d, right = exclusions, how = 'inner', \n",
    "      left_on = ['nppes_provider_first_name','nppes_provider_last_org_name','nppes_provider_state'],\n",
    "      right_on = ['FIRSTNAME','LASTNAME','STATE']\n",
    "     )\n",
    "\n",
    "print(\"There are\", merge2.shape[0],\"records when matching on first name, last name & states.\")\n",
    "\n"
   ]
  },
  {
   "cell_type": "code",
   "execution_count": null,
   "metadata": {},
   "outputs": [],
   "source": []
  }
 ],
 "metadata": {
  "kernelspec": {
   "display_name": "Python 3 (ipykernel)",
   "language": "python",
   "name": "python3"
  },
  "language_info": {
   "codemirror_mode": {
    "name": "ipython",
    "version": 3
   },
   "file_extension": ".py",
   "mimetype": "text/x-python",
   "name": "python",
   "nbconvert_exporter": "python",
   "pygments_lexer": "ipython3",
   "version": "3.10.9"
  }
 },
 "nbformat": 4,
 "nbformat_minor": 4
}
