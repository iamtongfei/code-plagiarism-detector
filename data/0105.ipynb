{
 "cells": [
  {
   "cell_type": "markdown",
   "metadata": {},
   "source": [
    "# Homework 2\n",
    "\n",
    "The goal of this Homework is to write Python code to answer each of the questions below. You should be able to answer these questions using Pandas only. You should not need to import any other packages. You should not use Excel or any other means to answer these questions. **Since questions have subquestions, it would be helpful if you use comments to clearly indicate which question you are answering**.\n",
    "\n",
    "## Introduction\n",
    "The Centers for Medicare & Medicaid Services ([CMS](cms.gov)) is a federal agency within the United States Department of Health and Human Services (HHS) that administers the **Medicare program** and works in partnership with state governments to administer Medicaid, the Children's Health Insurance Program (CHIP), and health insurance portability standards.\n",
    " - **Medicare** is a national health insurance program that provides health insurance for Americans aged 65 and over\n",
    "\n",
    "The **Medicare Part D** program, also called the Medicare prescription drug benefit, is an optional United States federal-government program to help Medicare beneficiaries pay for self-administered prescription drugs through prescription drug insurance premiums.\n",
    "\n",
    "CMS maintains a lot of [public info](https://www.cms.gov/Research-Statistics-Data-and-Systems/Statistics-Trends-and-Reports/Medicare-Provider-Charge-Data/Part-D-Prescriber) on prescription drugs that are prescribed by individual physicians and other health care **providers** and paid for under the **Medicare Part D** Prescription Drug Program.\n",
    "\n",
    "I downloaded the **2017 Provider Summary table** and sampled it down from 1.1 million records (360 MB) to roughly 6000 records (2MB). If you would like to check out the original dataset, you can download it from this site https://www.cms.gov/Research-Statistics-Data-and-Systems/Statistics-Trends-and-Reports/Medicare-Provider-Charge-Data/PartD2017   \n",
    "\n",
    "But for this assignment, you need to use the provided downsampled dataset `part_d_drug_prescriptions_sample2.csv`. If you would like, the data dictionary is available [here](https://www.cms.gov/Research-Statistics-Data-and-Systems/Statistics-Trends-and-Reports/Medicare-Provider-Charge-Data/Downloads/Prescriber_Methods.pdf). The applicable section is Table 2 in the Appendix.\n"
   ]
  },
  {
   "cell_type": "code",
   "execution_count": 1,
   "metadata": {},
   "outputs": [],
   "source": [
    "import pandas as pd\n",
    "pd.set_option('display.max_rows', 200)\n",
    "pd.set_option('display.max_rows', 200)\n"
   ]
  },
  {
   "cell_type": "markdown",
   "metadata": {},
   "source": [
    "## Question 1\n",
    "\n",
    "Use Pandas to import **part_d_drug_prescriptions_sample2.csv** into a DataFrame, named `part_d`. How many rows and colums does the dataset have?"
   ]
  },
  {
   "cell_type": "code",
   "execution_count": 2,
   "metadata": {},
   "outputs": [],
   "source": [
    "part_d = pd.read_csv('part_d_drug_prescriptions_sample2.csv')"
   ]
  },
  {
   "cell_type": "code",
   "execution_count": 3,
   "metadata": {},
   "outputs": [
    {
     "name": "stdout",
     "output_type": "stream",
     "text": [
      "rows: 5815, columns: 84\n"
     ]
    }
   ],
   "source": [
    "# shape returns a tuple of the dimension of the dataframe, for a 2-D df, shape[0] is rows and shape[1] is columns\n",
    "print('rows: ' + str(part_d.shape[0]) + ', columns: ' + str(part_d.shape[1]))"
   ]
  },
  {
   "cell_type": "code",
   "execution_count": 4,
   "metadata": {},
   "outputs": [
    {
     "name": "stdout",
     "output_type": "stream",
     "text": [
      "rows: 5815, columns: 84\n"
     ]
    }
   ],
   "source": [
    "# or alternatively, a faster way\n",
    "print('rows: ' + str(len(part_d)) + ', columns: ' + str(len(part_d.columns)))"
   ]
  },
  {
   "cell_type": "markdown",
   "metadata": {},
   "source": [
    "## Question 2\n",
    "This question has two parts:\n",
    "1. Display the first 6 rows of `part_d`.\n",
    "2. Display the last 6 rows of `part_d`."
   ]
  },
  {
   "cell_type": "code",
   "execution_count": 5,
   "metadata": {
    "scrolled": false
   },
   "outputs": [
    {
     "name": "stdout",
     "output_type": "stream",
     "text": [
      "1. 1)\n"
     ]
    },
    {
     "data": {
      "text/html": [
       "<div>\n",
       "<style scoped>\n",
       "    .dataframe tbody tr th:only-of-type {\n",
       "        vertical-align: middle;\n",
       "    }\n",
       "\n",
       "    .dataframe tbody tr th {\n",
       "        vertical-align: top;\n",
       "    }\n",
       "\n",
       "    .dataframe thead th {\n",
       "        text-align: right;\n",
       "    }\n",
       "</style>\n",
       "<table border=\"1\" class=\"dataframe\">\n",
       "  <thead>\n",
       "    <tr style=\"text-align: right;\">\n",
       "      <th></th>\n",
       "      <th>npi</th>\n",
       "      <th>nppes_provider_last_org_name</th>\n",
       "      <th>nppes_provider_first_name</th>\n",
       "      <th>nppes_provider_mi</th>\n",
       "      <th>nppes_credentials</th>\n",
       "      <th>nppes_provider_gender</th>\n",
       "      <th>nppes_entity_code</th>\n",
       "      <th>nppes_provider_street1</th>\n",
       "      <th>nppes_provider_street2</th>\n",
       "      <th>nppes_provider_city</th>\n",
       "      <th>...</th>\n",
       "      <th>beneficiary_male_count</th>\n",
       "      <th>beneficiary_race_white_count</th>\n",
       "      <th>beneficiary_race_black_count</th>\n",
       "      <th>beneficiary_race_asian_pi_count</th>\n",
       "      <th>beneficiary_race_hispanic_count</th>\n",
       "      <th>beneficiary_race_nat_ind_count</th>\n",
       "      <th>beneficiary_race_other_count</th>\n",
       "      <th>beneficiary_nondual_count</th>\n",
       "      <th>beneficiary_dual_count</th>\n",
       "      <th>beneficiary_average_risk_score</th>\n",
       "    </tr>\n",
       "  </thead>\n",
       "  <tbody>\n",
       "    <tr>\n",
       "      <th>0</th>\n",
       "      <td>1003000126</td>\n",
       "      <td>ENKESHAFI</td>\n",
       "      <td>ARDALAN</td>\n",
       "      <td>NaN</td>\n",
       "      <td>M.D.</td>\n",
       "      <td>M</td>\n",
       "      <td>I</td>\n",
       "      <td>900 SETON DR</td>\n",
       "      <td>NaN</td>\n",
       "      <td>CUMBERLAND</td>\n",
       "      <td>...</td>\n",
       "      <td>92.0</td>\n",
       "      <td>220.0</td>\n",
       "      <td>14.0</td>\n",
       "      <td>0.0</td>\n",
       "      <td>0.0</td>\n",
       "      <td>0.0</td>\n",
       "      <td>0.0</td>\n",
       "      <td>143.0</td>\n",
       "      <td>91.0</td>\n",
       "      <td>2.1685</td>\n",
       "    </tr>\n",
       "    <tr>\n",
       "      <th>1</th>\n",
       "      <td>1003012022</td>\n",
       "      <td>CUDZILO</td>\n",
       "      <td>COREY</td>\n",
       "      <td>NaN</td>\n",
       "      <td>M.D.</td>\n",
       "      <td>M</td>\n",
       "      <td>I</td>\n",
       "      <td>2240 SUTHERLAND AVE</td>\n",
       "      <td>SUITE 103</td>\n",
       "      <td>KNOXVILLE</td>\n",
       "      <td>...</td>\n",
       "      <td>35.0</td>\n",
       "      <td>NaN</td>\n",
       "      <td>NaN</td>\n",
       "      <td>0.0</td>\n",
       "      <td>NaN</td>\n",
       "      <td>0.0</td>\n",
       "      <td>0.0</td>\n",
       "      <td>49.0</td>\n",
       "      <td>33.0</td>\n",
       "      <td>2.5022</td>\n",
       "    </tr>\n",
       "    <tr>\n",
       "      <th>2</th>\n",
       "      <td>1003020041</td>\n",
       "      <td>BAXTER</td>\n",
       "      <td>MARGARET</td>\n",
       "      <td>NaN</td>\n",
       "      <td>M.D.</td>\n",
       "      <td>F</td>\n",
       "      <td>I</td>\n",
       "      <td>1100 LONG POND RD</td>\n",
       "      <td>SUITE 250</td>\n",
       "      <td>ROCHESTER</td>\n",
       "      <td>...</td>\n",
       "      <td>221.0</td>\n",
       "      <td>544.0</td>\n",
       "      <td>NaN</td>\n",
       "      <td>NaN</td>\n",
       "      <td>17.0</td>\n",
       "      <td>0.0</td>\n",
       "      <td>26.0</td>\n",
       "      <td>515.0</td>\n",
       "      <td>95.0</td>\n",
       "      <td>1.0164</td>\n",
       "    </tr>\n",
       "    <tr>\n",
       "      <th>3</th>\n",
       "      <td>1003031212</td>\n",
       "      <td>KAYALI</td>\n",
       "      <td>FADI</td>\n",
       "      <td>NaN</td>\n",
       "      <td>M.D.</td>\n",
       "      <td>M</td>\n",
       "      <td>I</td>\n",
       "      <td>600 N CATTLEMEN RD</td>\n",
       "      <td>SUITE 200</td>\n",
       "      <td>SARASOTA</td>\n",
       "      <td>...</td>\n",
       "      <td>140.0</td>\n",
       "      <td>249.0</td>\n",
       "      <td>NaN</td>\n",
       "      <td>NaN</td>\n",
       "      <td>NaN</td>\n",
       "      <td>0.0</td>\n",
       "      <td>NaN</td>\n",
       "      <td>229.0</td>\n",
       "      <td>45.0</td>\n",
       "      <td>2.4311</td>\n",
       "    </tr>\n",
       "    <tr>\n",
       "      <th>4</th>\n",
       "      <td>1003043175</td>\n",
       "      <td>BENSON</td>\n",
       "      <td>REBECCA</td>\n",
       "      <td>L</td>\n",
       "      <td>D.D.S.</td>\n",
       "      <td>F</td>\n",
       "      <td>I</td>\n",
       "      <td>6601 LYNDALE AVE S</td>\n",
       "      <td>NaN</td>\n",
       "      <td>RICHFIELD</td>\n",
       "      <td>...</td>\n",
       "      <td>NaN</td>\n",
       "      <td>NaN</td>\n",
       "      <td>0.0</td>\n",
       "      <td>0.0</td>\n",
       "      <td>0.0</td>\n",
       "      <td>0.0</td>\n",
       "      <td>NaN</td>\n",
       "      <td>20.0</td>\n",
       "      <td>0.0</td>\n",
       "      <td>1.0910</td>\n",
       "    </tr>\n",
       "    <tr>\n",
       "      <th>5</th>\n",
       "      <td>1003054206</td>\n",
       "      <td>SEILER</td>\n",
       "      <td>WARREN</td>\n",
       "      <td>B</td>\n",
       "      <td>MD</td>\n",
       "      <td>M</td>\n",
       "      <td>I</td>\n",
       "      <td>2700 ROGERS DR</td>\n",
       "      <td>SUITE 101</td>\n",
       "      <td>HOMEWOOD</td>\n",
       "      <td>...</td>\n",
       "      <td>NaN</td>\n",
       "      <td>NaN</td>\n",
       "      <td>NaN</td>\n",
       "      <td>NaN</td>\n",
       "      <td>NaN</td>\n",
       "      <td>NaN</td>\n",
       "      <td>NaN</td>\n",
       "      <td>NaN</td>\n",
       "      <td>NaN</td>\n",
       "      <td>NaN</td>\n",
       "    </tr>\n",
       "  </tbody>\n",
       "</table>\n",
       "<p>6 rows × 84 columns</p>\n",
       "</div>"
      ],
      "text/plain": [
       "          npi nppes_provider_last_org_name nppes_provider_first_name  \\\n",
       "0  1003000126                    ENKESHAFI                   ARDALAN   \n",
       "1  1003012022                      CUDZILO                     COREY   \n",
       "2  1003020041                       BAXTER                  MARGARET   \n",
       "3  1003031212                       KAYALI                      FADI   \n",
       "4  1003043175                       BENSON                   REBECCA   \n",
       "5  1003054206                       SEILER                    WARREN   \n",
       "\n",
       "  nppes_provider_mi nppes_credentials nppes_provider_gender nppes_entity_code  \\\n",
       "0               NaN              M.D.                     M                 I   \n",
       "1               NaN              M.D.                     M                 I   \n",
       "2               NaN              M.D.                     F                 I   \n",
       "3               NaN              M.D.                     M                 I   \n",
       "4                 L            D.D.S.                     F                 I   \n",
       "5                 B                MD                     M                 I   \n",
       "\n",
       "  nppes_provider_street1 nppes_provider_street2 nppes_provider_city  ...  \\\n",
       "0           900 SETON DR                    NaN          CUMBERLAND  ...   \n",
       "1    2240 SUTHERLAND AVE              SUITE 103           KNOXVILLE  ...   \n",
       "2      1100 LONG POND RD              SUITE 250           ROCHESTER  ...   \n",
       "3     600 N CATTLEMEN RD              SUITE 200            SARASOTA  ...   \n",
       "4     6601 LYNDALE AVE S                    NaN           RICHFIELD  ...   \n",
       "5         2700 ROGERS DR              SUITE 101            HOMEWOOD  ...   \n",
       "\n",
       "   beneficiary_male_count  beneficiary_race_white_count  \\\n",
       "0                    92.0                         220.0   \n",
       "1                    35.0                           NaN   \n",
       "2                   221.0                         544.0   \n",
       "3                   140.0                         249.0   \n",
       "4                     NaN                           NaN   \n",
       "5                     NaN                           NaN   \n",
       "\n",
       "  beneficiary_race_black_count beneficiary_race_asian_pi_count  \\\n",
       "0                         14.0                             0.0   \n",
       "1                          NaN                             0.0   \n",
       "2                          NaN                             NaN   \n",
       "3                          NaN                             NaN   \n",
       "4                          0.0                             0.0   \n",
       "5                          NaN                             NaN   \n",
       "\n",
       "  beneficiary_race_hispanic_count beneficiary_race_nat_ind_count  \\\n",
       "0                             0.0                            0.0   \n",
       "1                             NaN                            0.0   \n",
       "2                            17.0                            0.0   \n",
       "3                             NaN                            0.0   \n",
       "4                             0.0                            0.0   \n",
       "5                             NaN                            NaN   \n",
       "\n",
       "  beneficiary_race_other_count  beneficiary_nondual_count  \\\n",
       "0                          0.0                      143.0   \n",
       "1                          0.0                       49.0   \n",
       "2                         26.0                      515.0   \n",
       "3                          NaN                      229.0   \n",
       "4                          NaN                       20.0   \n",
       "5                          NaN                        NaN   \n",
       "\n",
       "   beneficiary_dual_count  beneficiary_average_risk_score  \n",
       "0                    91.0                          2.1685  \n",
       "1                    33.0                          2.5022  \n",
       "2                    95.0                          1.0164  \n",
       "3                    45.0                          2.4311  \n",
       "4                     0.0                          1.0910  \n",
       "5                     NaN                             NaN  \n",
       "\n",
       "[6 rows x 84 columns]"
      ]
     },
     "execution_count": 5,
     "metadata": {},
     "output_type": "execute_result"
    }
   ],
   "source": [
    "print('1. 1)')\n",
    "# using head()\n",
    "part_d.head(6)"
   ]
  },
  {
   "cell_type": "code",
   "execution_count": 6,
   "metadata": {},
   "outputs": [
    {
     "name": "stdout",
     "output_type": "stream",
     "text": [
      "1. 2)\n"
     ]
    },
    {
     "data": {
      "text/html": [
       "<div>\n",
       "<style scoped>\n",
       "    .dataframe tbody tr th:only-of-type {\n",
       "        vertical-align: middle;\n",
       "    }\n",
       "\n",
       "    .dataframe tbody tr th {\n",
       "        vertical-align: top;\n",
       "    }\n",
       "\n",
       "    .dataframe thead th {\n",
       "        text-align: right;\n",
       "    }\n",
       "</style>\n",
       "<table border=\"1\" class=\"dataframe\">\n",
       "  <thead>\n",
       "    <tr style=\"text-align: right;\">\n",
       "      <th></th>\n",
       "      <th>npi</th>\n",
       "      <th>nppes_provider_last_org_name</th>\n",
       "      <th>nppes_provider_first_name</th>\n",
       "      <th>nppes_provider_mi</th>\n",
       "      <th>nppes_credentials</th>\n",
       "      <th>nppes_provider_gender</th>\n",
       "      <th>nppes_entity_code</th>\n",
       "      <th>nppes_provider_street1</th>\n",
       "      <th>nppes_provider_street2</th>\n",
       "      <th>nppes_provider_city</th>\n",
       "      <th>...</th>\n",
       "      <th>beneficiary_male_count</th>\n",
       "      <th>beneficiary_race_white_count</th>\n",
       "      <th>beneficiary_race_black_count</th>\n",
       "      <th>beneficiary_race_asian_pi_count</th>\n",
       "      <th>beneficiary_race_hispanic_count</th>\n",
       "      <th>beneficiary_race_nat_ind_count</th>\n",
       "      <th>beneficiary_race_other_count</th>\n",
       "      <th>beneficiary_nondual_count</th>\n",
       "      <th>beneficiary_dual_count</th>\n",
       "      <th>beneficiary_average_risk_score</th>\n",
       "    </tr>\n",
       "  </thead>\n",
       "  <tbody>\n",
       "    <tr>\n",
       "      <th>0</th>\n",
       "      <td>1003000126</td>\n",
       "      <td>ENKESHAFI</td>\n",
       "      <td>ARDALAN</td>\n",
       "      <td>NaN</td>\n",
       "      <td>M.D.</td>\n",
       "      <td>M</td>\n",
       "      <td>I</td>\n",
       "      <td>900 SETON DR</td>\n",
       "      <td>NaN</td>\n",
       "      <td>CUMBERLAND</td>\n",
       "      <td>...</td>\n",
       "      <td>92.0</td>\n",
       "      <td>220.0</td>\n",
       "      <td>14.0</td>\n",
       "      <td>0.0</td>\n",
       "      <td>0.0</td>\n",
       "      <td>0.0</td>\n",
       "      <td>0.0</td>\n",
       "      <td>143.0</td>\n",
       "      <td>91.0</td>\n",
       "      <td>2.1685</td>\n",
       "    </tr>\n",
       "    <tr>\n",
       "      <th>1</th>\n",
       "      <td>1003012022</td>\n",
       "      <td>CUDZILO</td>\n",
       "      <td>COREY</td>\n",
       "      <td>NaN</td>\n",
       "      <td>M.D.</td>\n",
       "      <td>M</td>\n",
       "      <td>I</td>\n",
       "      <td>2240 SUTHERLAND AVE</td>\n",
       "      <td>SUITE 103</td>\n",
       "      <td>KNOXVILLE</td>\n",
       "      <td>...</td>\n",
       "      <td>35.0</td>\n",
       "      <td>NaN</td>\n",
       "      <td>NaN</td>\n",
       "      <td>0.0</td>\n",
       "      <td>NaN</td>\n",
       "      <td>0.0</td>\n",
       "      <td>0.0</td>\n",
       "      <td>49.0</td>\n",
       "      <td>33.0</td>\n",
       "      <td>2.5022</td>\n",
       "    </tr>\n",
       "    <tr>\n",
       "      <th>2</th>\n",
       "      <td>1003020041</td>\n",
       "      <td>BAXTER</td>\n",
       "      <td>MARGARET</td>\n",
       "      <td>NaN</td>\n",
       "      <td>M.D.</td>\n",
       "      <td>F</td>\n",
       "      <td>I</td>\n",
       "      <td>1100 LONG POND RD</td>\n",
       "      <td>SUITE 250</td>\n",
       "      <td>ROCHESTER</td>\n",
       "      <td>...</td>\n",
       "      <td>221.0</td>\n",
       "      <td>544.0</td>\n",
       "      <td>NaN</td>\n",
       "      <td>NaN</td>\n",
       "      <td>17.0</td>\n",
       "      <td>0.0</td>\n",
       "      <td>26.0</td>\n",
       "      <td>515.0</td>\n",
       "      <td>95.0</td>\n",
       "      <td>1.0164</td>\n",
       "    </tr>\n",
       "    <tr>\n",
       "      <th>3</th>\n",
       "      <td>1003031212</td>\n",
       "      <td>KAYALI</td>\n",
       "      <td>FADI</td>\n",
       "      <td>NaN</td>\n",
       "      <td>M.D.</td>\n",
       "      <td>M</td>\n",
       "      <td>I</td>\n",
       "      <td>600 N CATTLEMEN RD</td>\n",
       "      <td>SUITE 200</td>\n",
       "      <td>SARASOTA</td>\n",
       "      <td>...</td>\n",
       "      <td>140.0</td>\n",
       "      <td>249.0</td>\n",
       "      <td>NaN</td>\n",
       "      <td>NaN</td>\n",
       "      <td>NaN</td>\n",
       "      <td>0.0</td>\n",
       "      <td>NaN</td>\n",
       "      <td>229.0</td>\n",
       "      <td>45.0</td>\n",
       "      <td>2.4311</td>\n",
       "    </tr>\n",
       "    <tr>\n",
       "      <th>4</th>\n",
       "      <td>1003043175</td>\n",
       "      <td>BENSON</td>\n",
       "      <td>REBECCA</td>\n",
       "      <td>L</td>\n",
       "      <td>D.D.S.</td>\n",
       "      <td>F</td>\n",
       "      <td>I</td>\n",
       "      <td>6601 LYNDALE AVE S</td>\n",
       "      <td>NaN</td>\n",
       "      <td>RICHFIELD</td>\n",
       "      <td>...</td>\n",
       "      <td>NaN</td>\n",
       "      <td>NaN</td>\n",
       "      <td>0.0</td>\n",
       "      <td>0.0</td>\n",
       "      <td>0.0</td>\n",
       "      <td>0.0</td>\n",
       "      <td>NaN</td>\n",
       "      <td>20.0</td>\n",
       "      <td>0.0</td>\n",
       "      <td>1.0910</td>\n",
       "    </tr>\n",
       "    <tr>\n",
       "      <th>5</th>\n",
       "      <td>1003054206</td>\n",
       "      <td>SEILER</td>\n",
       "      <td>WARREN</td>\n",
       "      <td>B</td>\n",
       "      <td>MD</td>\n",
       "      <td>M</td>\n",
       "      <td>I</td>\n",
       "      <td>2700 ROGERS DR</td>\n",
       "      <td>SUITE 101</td>\n",
       "      <td>HOMEWOOD</td>\n",
       "      <td>...</td>\n",
       "      <td>NaN</td>\n",
       "      <td>NaN</td>\n",
       "      <td>NaN</td>\n",
       "      <td>NaN</td>\n",
       "      <td>NaN</td>\n",
       "      <td>NaN</td>\n",
       "      <td>NaN</td>\n",
       "      <td>NaN</td>\n",
       "      <td>NaN</td>\n",
       "      <td>NaN</td>\n",
       "    </tr>\n",
       "  </tbody>\n",
       "</table>\n",
       "<p>6 rows × 84 columns</p>\n",
       "</div>"
      ],
      "text/plain": [
       "          npi nppes_provider_last_org_name nppes_provider_first_name  \\\n",
       "0  1003000126                    ENKESHAFI                   ARDALAN   \n",
       "1  1003012022                      CUDZILO                     COREY   \n",
       "2  1003020041                       BAXTER                  MARGARET   \n",
       "3  1003031212                       KAYALI                      FADI   \n",
       "4  1003043175                       BENSON                   REBECCA   \n",
       "5  1003054206                       SEILER                    WARREN   \n",
       "\n",
       "  nppes_provider_mi nppes_credentials nppes_provider_gender nppes_entity_code  \\\n",
       "0               NaN              M.D.                     M                 I   \n",
       "1               NaN              M.D.                     M                 I   \n",
       "2               NaN              M.D.                     F                 I   \n",
       "3               NaN              M.D.                     M                 I   \n",
       "4                 L            D.D.S.                     F                 I   \n",
       "5                 B                MD                     M                 I   \n",
       "\n",
       "  nppes_provider_street1 nppes_provider_street2 nppes_provider_city  ...  \\\n",
       "0           900 SETON DR                    NaN          CUMBERLAND  ...   \n",
       "1    2240 SUTHERLAND AVE              SUITE 103           KNOXVILLE  ...   \n",
       "2      1100 LONG POND RD              SUITE 250           ROCHESTER  ...   \n",
       "3     600 N CATTLEMEN RD              SUITE 200            SARASOTA  ...   \n",
       "4     6601 LYNDALE AVE S                    NaN           RICHFIELD  ...   \n",
       "5         2700 ROGERS DR              SUITE 101            HOMEWOOD  ...   \n",
       "\n",
       "   beneficiary_male_count  beneficiary_race_white_count  \\\n",
       "0                    92.0                         220.0   \n",
       "1                    35.0                           NaN   \n",
       "2                   221.0                         544.0   \n",
       "3                   140.0                         249.0   \n",
       "4                     NaN                           NaN   \n",
       "5                     NaN                           NaN   \n",
       "\n",
       "  beneficiary_race_black_count beneficiary_race_asian_pi_count  \\\n",
       "0                         14.0                             0.0   \n",
       "1                          NaN                             0.0   \n",
       "2                          NaN                             NaN   \n",
       "3                          NaN                             NaN   \n",
       "4                          0.0                             0.0   \n",
       "5                          NaN                             NaN   \n",
       "\n",
       "  beneficiary_race_hispanic_count beneficiary_race_nat_ind_count  \\\n",
       "0                             0.0                            0.0   \n",
       "1                             NaN                            0.0   \n",
       "2                            17.0                            0.0   \n",
       "3                             NaN                            0.0   \n",
       "4                             0.0                            0.0   \n",
       "5                             NaN                            NaN   \n",
       "\n",
       "  beneficiary_race_other_count  beneficiary_nondual_count  \\\n",
       "0                          0.0                      143.0   \n",
       "1                          0.0                       49.0   \n",
       "2                         26.0                      515.0   \n",
       "3                          NaN                      229.0   \n",
       "4                          NaN                       20.0   \n",
       "5                          NaN                        NaN   \n",
       "\n",
       "   beneficiary_dual_count  beneficiary_average_risk_score  \n",
       "0                    91.0                          2.1685  \n",
       "1                    33.0                          2.5022  \n",
       "2                    95.0                          1.0164  \n",
       "3                    45.0                          2.4311  \n",
       "4                     0.0                          1.0910  \n",
       "5                     NaN                             NaN  \n",
       "\n",
       "[6 rows x 84 columns]"
      ]
     },
     "execution_count": 6,
     "metadata": {},
     "output_type": "execute_result"
    }
   ],
   "source": [
    "print('1. 2)')\n",
    "# or alternatively, using iloc\n",
    "part_d.iloc[:6]"
   ]
  },
  {
   "cell_type": "code",
   "execution_count": 7,
   "metadata": {},
   "outputs": [
    {
     "name": "stdout",
     "output_type": "stream",
     "text": [
      "2. 1)\n"
     ]
    },
    {
     "data": {
      "text/html": [
       "<div>\n",
       "<style scoped>\n",
       "    .dataframe tbody tr th:only-of-type {\n",
       "        vertical-align: middle;\n",
       "    }\n",
       "\n",
       "    .dataframe tbody tr th {\n",
       "        vertical-align: top;\n",
       "    }\n",
       "\n",
       "    .dataframe thead th {\n",
       "        text-align: right;\n",
       "    }\n",
       "</style>\n",
       "<table border=\"1\" class=\"dataframe\">\n",
       "  <thead>\n",
       "    <tr style=\"text-align: right;\">\n",
       "      <th></th>\n",
       "      <th>npi</th>\n",
       "      <th>nppes_provider_last_org_name</th>\n",
       "      <th>nppes_provider_first_name</th>\n",
       "      <th>nppes_provider_mi</th>\n",
       "      <th>nppes_credentials</th>\n",
       "      <th>nppes_provider_gender</th>\n",
       "      <th>nppes_entity_code</th>\n",
       "      <th>nppes_provider_street1</th>\n",
       "      <th>nppes_provider_street2</th>\n",
       "      <th>nppes_provider_city</th>\n",
       "      <th>...</th>\n",
       "      <th>beneficiary_male_count</th>\n",
       "      <th>beneficiary_race_white_count</th>\n",
       "      <th>beneficiary_race_black_count</th>\n",
       "      <th>beneficiary_race_asian_pi_count</th>\n",
       "      <th>beneficiary_race_hispanic_count</th>\n",
       "      <th>beneficiary_race_nat_ind_count</th>\n",
       "      <th>beneficiary_race_other_count</th>\n",
       "      <th>beneficiary_nondual_count</th>\n",
       "      <th>beneficiary_dual_count</th>\n",
       "      <th>beneficiary_average_risk_score</th>\n",
       "    </tr>\n",
       "  </thead>\n",
       "  <tbody>\n",
       "    <tr>\n",
       "      <th>5809</th>\n",
       "      <td>1992936330</td>\n",
       "      <td>MANLEY</td>\n",
       "      <td>CHRISTOPHER</td>\n",
       "      <td>J</td>\n",
       "      <td>MD</td>\n",
       "      <td>M</td>\n",
       "      <td>I</td>\n",
       "      <td>333 COTTMAN AVE</td>\n",
       "      <td>NaN</td>\n",
       "      <td>PHILADELPHIA</td>\n",
       "      <td>...</td>\n",
       "      <td>25.0</td>\n",
       "      <td>NaN</td>\n",
       "      <td>NaN</td>\n",
       "      <td>NaN</td>\n",
       "      <td>0.0</td>\n",
       "      <td>0.0</td>\n",
       "      <td>NaN</td>\n",
       "      <td>NaN</td>\n",
       "      <td>NaN</td>\n",
       "      <td>2.5471</td>\n",
       "    </tr>\n",
       "    <tr>\n",
       "      <th>5810</th>\n",
       "      <td>1992949150</td>\n",
       "      <td>WANG</td>\n",
       "      <td>AMY</td>\n",
       "      <td>M</td>\n",
       "      <td>MD</td>\n",
       "      <td>F</td>\n",
       "      <td>I</td>\n",
       "      <td>3130 N COUNTY ROAD 25A</td>\n",
       "      <td>NaN</td>\n",
       "      <td>TROY</td>\n",
       "      <td>...</td>\n",
       "      <td>73.0</td>\n",
       "      <td>168.0</td>\n",
       "      <td>24.0</td>\n",
       "      <td>NaN</td>\n",
       "      <td>NaN</td>\n",
       "      <td>0.0</td>\n",
       "      <td>NaN</td>\n",
       "      <td>146.0</td>\n",
       "      <td>58.0</td>\n",
       "      <td>2.0090</td>\n",
       "    </tr>\n",
       "    <tr>\n",
       "      <th>5811</th>\n",
       "      <td>1992961429</td>\n",
       "      <td>PARKER</td>\n",
       "      <td>MELINDA</td>\n",
       "      <td>S</td>\n",
       "      <td>PA-C</td>\n",
       "      <td>F</td>\n",
       "      <td>I</td>\n",
       "      <td>3209 S 23RD ST</td>\n",
       "      <td>STE 340</td>\n",
       "      <td>TACOMA</td>\n",
       "      <td>...</td>\n",
       "      <td>59.0</td>\n",
       "      <td>NaN</td>\n",
       "      <td>0.0</td>\n",
       "      <td>0.0</td>\n",
       "      <td>0.0</td>\n",
       "      <td>0.0</td>\n",
       "      <td>NaN</td>\n",
       "      <td>NaN</td>\n",
       "      <td>NaN</td>\n",
       "      <td>0.9592</td>\n",
       "    </tr>\n",
       "    <tr>\n",
       "      <th>5812</th>\n",
       "      <td>1992969141</td>\n",
       "      <td>BURKART</td>\n",
       "      <td>NORA</td>\n",
       "      <td>E</td>\n",
       "      <td>M.D.</td>\n",
       "      <td>F</td>\n",
       "      <td>I</td>\n",
       "      <td>1805 HENNEPIN AVE N</td>\n",
       "      <td>NaN</td>\n",
       "      <td>GLENCOE</td>\n",
       "      <td>...</td>\n",
       "      <td>11.0</td>\n",
       "      <td>NaN</td>\n",
       "      <td>0.0</td>\n",
       "      <td>0.0</td>\n",
       "      <td>NaN</td>\n",
       "      <td>0.0</td>\n",
       "      <td>0.0</td>\n",
       "      <td>NaN</td>\n",
       "      <td>NaN</td>\n",
       "      <td>1.3618</td>\n",
       "    </tr>\n",
       "    <tr>\n",
       "      <th>5813</th>\n",
       "      <td>1992980767</td>\n",
       "      <td>TANAWUTTIWAT</td>\n",
       "      <td>TANYANAN</td>\n",
       "      <td>NaN</td>\n",
       "      <td>M.D.</td>\n",
       "      <td>F</td>\n",
       "      <td>I</td>\n",
       "      <td>2500 N STATE ST</td>\n",
       "      <td>NaN</td>\n",
       "      <td>JACKSON</td>\n",
       "      <td>...</td>\n",
       "      <td>84.0</td>\n",
       "      <td>NaN</td>\n",
       "      <td>79.0</td>\n",
       "      <td>NaN</td>\n",
       "      <td>NaN</td>\n",
       "      <td>NaN</td>\n",
       "      <td>0.0</td>\n",
       "      <td>75.0</td>\n",
       "      <td>78.0</td>\n",
       "      <td>2.0090</td>\n",
       "    </tr>\n",
       "    <tr>\n",
       "      <th>5814</th>\n",
       "      <td>1992994446</td>\n",
       "      <td>PATETE</td>\n",
       "      <td>MICHAEL</td>\n",
       "      <td>L</td>\n",
       "      <td>MD, FACS</td>\n",
       "      <td>M</td>\n",
       "      <td>I</td>\n",
       "      <td>213 PALERMO PL</td>\n",
       "      <td>NaN</td>\n",
       "      <td>VENICE</td>\n",
       "      <td>...</td>\n",
       "      <td>472.0</td>\n",
       "      <td>951.0</td>\n",
       "      <td>NaN</td>\n",
       "      <td>NaN</td>\n",
       "      <td>NaN</td>\n",
       "      <td>NaN</td>\n",
       "      <td>19.0</td>\n",
       "      <td>948.0</td>\n",
       "      <td>35.0</td>\n",
       "      <td>1.2319</td>\n",
       "    </tr>\n",
       "  </tbody>\n",
       "</table>\n",
       "<p>6 rows × 84 columns</p>\n",
       "</div>"
      ],
      "text/plain": [
       "             npi nppes_provider_last_org_name nppes_provider_first_name  \\\n",
       "5809  1992936330                       MANLEY               CHRISTOPHER   \n",
       "5810  1992949150                         WANG                       AMY   \n",
       "5811  1992961429                       PARKER                   MELINDA   \n",
       "5812  1992969141                      BURKART                      NORA   \n",
       "5813  1992980767                 TANAWUTTIWAT                  TANYANAN   \n",
       "5814  1992994446                       PATETE                   MICHAEL   \n",
       "\n",
       "     nppes_provider_mi nppes_credentials nppes_provider_gender  \\\n",
       "5809                 J                MD                     M   \n",
       "5810                 M                MD                     F   \n",
       "5811                 S              PA-C                     F   \n",
       "5812                 E              M.D.                     F   \n",
       "5813               NaN              M.D.                     F   \n",
       "5814                 L          MD, FACS                     M   \n",
       "\n",
       "     nppes_entity_code  nppes_provider_street1 nppes_provider_street2  \\\n",
       "5809                 I         333 COTTMAN AVE                    NaN   \n",
       "5810                 I  3130 N COUNTY ROAD 25A                    NaN   \n",
       "5811                 I          3209 S 23RD ST                STE 340   \n",
       "5812                 I     1805 HENNEPIN AVE N                    NaN   \n",
       "5813                 I         2500 N STATE ST                    NaN   \n",
       "5814                 I          213 PALERMO PL                    NaN   \n",
       "\n",
       "     nppes_provider_city  ...  beneficiary_male_count  \\\n",
       "5809        PHILADELPHIA  ...                    25.0   \n",
       "5810                TROY  ...                    73.0   \n",
       "5811              TACOMA  ...                    59.0   \n",
       "5812             GLENCOE  ...                    11.0   \n",
       "5813             JACKSON  ...                    84.0   \n",
       "5814              VENICE  ...                   472.0   \n",
       "\n",
       "      beneficiary_race_white_count beneficiary_race_black_count  \\\n",
       "5809                           NaN                          NaN   \n",
       "5810                         168.0                         24.0   \n",
       "5811                           NaN                          0.0   \n",
       "5812                           NaN                          0.0   \n",
       "5813                           NaN                         79.0   \n",
       "5814                         951.0                          NaN   \n",
       "\n",
       "     beneficiary_race_asian_pi_count beneficiary_race_hispanic_count  \\\n",
       "5809                             NaN                             0.0   \n",
       "5810                             NaN                             NaN   \n",
       "5811                             0.0                             0.0   \n",
       "5812                             0.0                             NaN   \n",
       "5813                             NaN                             NaN   \n",
       "5814                             NaN                             NaN   \n",
       "\n",
       "     beneficiary_race_nat_ind_count beneficiary_race_other_count  \\\n",
       "5809                            0.0                          NaN   \n",
       "5810                            0.0                          NaN   \n",
       "5811                            0.0                          NaN   \n",
       "5812                            0.0                          0.0   \n",
       "5813                            NaN                          0.0   \n",
       "5814                            NaN                         19.0   \n",
       "\n",
       "      beneficiary_nondual_count  beneficiary_dual_count  \\\n",
       "5809                        NaN                     NaN   \n",
       "5810                      146.0                    58.0   \n",
       "5811                        NaN                     NaN   \n",
       "5812                        NaN                     NaN   \n",
       "5813                       75.0                    78.0   \n",
       "5814                      948.0                    35.0   \n",
       "\n",
       "      beneficiary_average_risk_score  \n",
       "5809                          2.5471  \n",
       "5810                          2.0090  \n",
       "5811                          0.9592  \n",
       "5812                          1.3618  \n",
       "5813                          2.0090  \n",
       "5814                          1.2319  \n",
       "\n",
       "[6 rows x 84 columns]"
      ]
     },
     "execution_count": 7,
     "metadata": {},
     "output_type": "execute_result"
    }
   ],
   "source": [
    "print('2. 1)')\n",
    "# using tail\n",
    "part_d.tail(6)"
   ]
  },
  {
   "cell_type": "code",
   "execution_count": 8,
   "metadata": {},
   "outputs": [
    {
     "name": "stdout",
     "output_type": "stream",
     "text": [
      "2. 2)\n"
     ]
    },
    {
     "data": {
      "text/html": [
       "<div>\n",
       "<style scoped>\n",
       "    .dataframe tbody tr th:only-of-type {\n",
       "        vertical-align: middle;\n",
       "    }\n",
       "\n",
       "    .dataframe tbody tr th {\n",
       "        vertical-align: top;\n",
       "    }\n",
       "\n",
       "    .dataframe thead th {\n",
       "        text-align: right;\n",
       "    }\n",
       "</style>\n",
       "<table border=\"1\" class=\"dataframe\">\n",
       "  <thead>\n",
       "    <tr style=\"text-align: right;\">\n",
       "      <th></th>\n",
       "      <th>npi</th>\n",
       "      <th>nppes_provider_last_org_name</th>\n",
       "      <th>nppes_provider_first_name</th>\n",
       "      <th>nppes_provider_mi</th>\n",
       "      <th>nppes_credentials</th>\n",
       "      <th>nppes_provider_gender</th>\n",
       "      <th>nppes_entity_code</th>\n",
       "      <th>nppes_provider_street1</th>\n",
       "      <th>nppes_provider_street2</th>\n",
       "      <th>nppes_provider_city</th>\n",
       "      <th>...</th>\n",
       "      <th>beneficiary_male_count</th>\n",
       "      <th>beneficiary_race_white_count</th>\n",
       "      <th>beneficiary_race_black_count</th>\n",
       "      <th>beneficiary_race_asian_pi_count</th>\n",
       "      <th>beneficiary_race_hispanic_count</th>\n",
       "      <th>beneficiary_race_nat_ind_count</th>\n",
       "      <th>beneficiary_race_other_count</th>\n",
       "      <th>beneficiary_nondual_count</th>\n",
       "      <th>beneficiary_dual_count</th>\n",
       "      <th>beneficiary_average_risk_score</th>\n",
       "    </tr>\n",
       "  </thead>\n",
       "  <tbody>\n",
       "    <tr>\n",
       "      <th>5809</th>\n",
       "      <td>1992936330</td>\n",
       "      <td>MANLEY</td>\n",
       "      <td>CHRISTOPHER</td>\n",
       "      <td>J</td>\n",
       "      <td>MD</td>\n",
       "      <td>M</td>\n",
       "      <td>I</td>\n",
       "      <td>333 COTTMAN AVE</td>\n",
       "      <td>NaN</td>\n",
       "      <td>PHILADELPHIA</td>\n",
       "      <td>...</td>\n",
       "      <td>25.0</td>\n",
       "      <td>NaN</td>\n",
       "      <td>NaN</td>\n",
       "      <td>NaN</td>\n",
       "      <td>0.0</td>\n",
       "      <td>0.0</td>\n",
       "      <td>NaN</td>\n",
       "      <td>NaN</td>\n",
       "      <td>NaN</td>\n",
       "      <td>2.5471</td>\n",
       "    </tr>\n",
       "    <tr>\n",
       "      <th>5810</th>\n",
       "      <td>1992949150</td>\n",
       "      <td>WANG</td>\n",
       "      <td>AMY</td>\n",
       "      <td>M</td>\n",
       "      <td>MD</td>\n",
       "      <td>F</td>\n",
       "      <td>I</td>\n",
       "      <td>3130 N COUNTY ROAD 25A</td>\n",
       "      <td>NaN</td>\n",
       "      <td>TROY</td>\n",
       "      <td>...</td>\n",
       "      <td>73.0</td>\n",
       "      <td>168.0</td>\n",
       "      <td>24.0</td>\n",
       "      <td>NaN</td>\n",
       "      <td>NaN</td>\n",
       "      <td>0.0</td>\n",
       "      <td>NaN</td>\n",
       "      <td>146.0</td>\n",
       "      <td>58.0</td>\n",
       "      <td>2.0090</td>\n",
       "    </tr>\n",
       "    <tr>\n",
       "      <th>5811</th>\n",
       "      <td>1992961429</td>\n",
       "      <td>PARKER</td>\n",
       "      <td>MELINDA</td>\n",
       "      <td>S</td>\n",
       "      <td>PA-C</td>\n",
       "      <td>F</td>\n",
       "      <td>I</td>\n",
       "      <td>3209 S 23RD ST</td>\n",
       "      <td>STE 340</td>\n",
       "      <td>TACOMA</td>\n",
       "      <td>...</td>\n",
       "      <td>59.0</td>\n",
       "      <td>NaN</td>\n",
       "      <td>0.0</td>\n",
       "      <td>0.0</td>\n",
       "      <td>0.0</td>\n",
       "      <td>0.0</td>\n",
       "      <td>NaN</td>\n",
       "      <td>NaN</td>\n",
       "      <td>NaN</td>\n",
       "      <td>0.9592</td>\n",
       "    </tr>\n",
       "    <tr>\n",
       "      <th>5812</th>\n",
       "      <td>1992969141</td>\n",
       "      <td>BURKART</td>\n",
       "      <td>NORA</td>\n",
       "      <td>E</td>\n",
       "      <td>M.D.</td>\n",
       "      <td>F</td>\n",
       "      <td>I</td>\n",
       "      <td>1805 HENNEPIN AVE N</td>\n",
       "      <td>NaN</td>\n",
       "      <td>GLENCOE</td>\n",
       "      <td>...</td>\n",
       "      <td>11.0</td>\n",
       "      <td>NaN</td>\n",
       "      <td>0.0</td>\n",
       "      <td>0.0</td>\n",
       "      <td>NaN</td>\n",
       "      <td>0.0</td>\n",
       "      <td>0.0</td>\n",
       "      <td>NaN</td>\n",
       "      <td>NaN</td>\n",
       "      <td>1.3618</td>\n",
       "    </tr>\n",
       "    <tr>\n",
       "      <th>5813</th>\n",
       "      <td>1992980767</td>\n",
       "      <td>TANAWUTTIWAT</td>\n",
       "      <td>TANYANAN</td>\n",
       "      <td>NaN</td>\n",
       "      <td>M.D.</td>\n",
       "      <td>F</td>\n",
       "      <td>I</td>\n",
       "      <td>2500 N STATE ST</td>\n",
       "      <td>NaN</td>\n",
       "      <td>JACKSON</td>\n",
       "      <td>...</td>\n",
       "      <td>84.0</td>\n",
       "      <td>NaN</td>\n",
       "      <td>79.0</td>\n",
       "      <td>NaN</td>\n",
       "      <td>NaN</td>\n",
       "      <td>NaN</td>\n",
       "      <td>0.0</td>\n",
       "      <td>75.0</td>\n",
       "      <td>78.0</td>\n",
       "      <td>2.0090</td>\n",
       "    </tr>\n",
       "    <tr>\n",
       "      <th>5814</th>\n",
       "      <td>1992994446</td>\n",
       "      <td>PATETE</td>\n",
       "      <td>MICHAEL</td>\n",
       "      <td>L</td>\n",
       "      <td>MD, FACS</td>\n",
       "      <td>M</td>\n",
       "      <td>I</td>\n",
       "      <td>213 PALERMO PL</td>\n",
       "      <td>NaN</td>\n",
       "      <td>VENICE</td>\n",
       "      <td>...</td>\n",
       "      <td>472.0</td>\n",
       "      <td>951.0</td>\n",
       "      <td>NaN</td>\n",
       "      <td>NaN</td>\n",
       "      <td>NaN</td>\n",
       "      <td>NaN</td>\n",
       "      <td>19.0</td>\n",
       "      <td>948.0</td>\n",
       "      <td>35.0</td>\n",
       "      <td>1.2319</td>\n",
       "    </tr>\n",
       "  </tbody>\n",
       "</table>\n",
       "<p>6 rows × 84 columns</p>\n",
       "</div>"
      ],
      "text/plain": [
       "             npi nppes_provider_last_org_name nppes_provider_first_name  \\\n",
       "5809  1992936330                       MANLEY               CHRISTOPHER   \n",
       "5810  1992949150                         WANG                       AMY   \n",
       "5811  1992961429                       PARKER                   MELINDA   \n",
       "5812  1992969141                      BURKART                      NORA   \n",
       "5813  1992980767                 TANAWUTTIWAT                  TANYANAN   \n",
       "5814  1992994446                       PATETE                   MICHAEL   \n",
       "\n",
       "     nppes_provider_mi nppes_credentials nppes_provider_gender  \\\n",
       "5809                 J                MD                     M   \n",
       "5810                 M                MD                     F   \n",
       "5811                 S              PA-C                     F   \n",
       "5812                 E              M.D.                     F   \n",
       "5813               NaN              M.D.                     F   \n",
       "5814                 L          MD, FACS                     M   \n",
       "\n",
       "     nppes_entity_code  nppes_provider_street1 nppes_provider_street2  \\\n",
       "5809                 I         333 COTTMAN AVE                    NaN   \n",
       "5810                 I  3130 N COUNTY ROAD 25A                    NaN   \n",
       "5811                 I          3209 S 23RD ST                STE 340   \n",
       "5812                 I     1805 HENNEPIN AVE N                    NaN   \n",
       "5813                 I         2500 N STATE ST                    NaN   \n",
       "5814                 I          213 PALERMO PL                    NaN   \n",
       "\n",
       "     nppes_provider_city  ...  beneficiary_male_count  \\\n",
       "5809        PHILADELPHIA  ...                    25.0   \n",
       "5810                TROY  ...                    73.0   \n",
       "5811              TACOMA  ...                    59.0   \n",
       "5812             GLENCOE  ...                    11.0   \n",
       "5813             JACKSON  ...                    84.0   \n",
       "5814              VENICE  ...                   472.0   \n",
       "\n",
       "      beneficiary_race_white_count beneficiary_race_black_count  \\\n",
       "5809                           NaN                          NaN   \n",
       "5810                         168.0                         24.0   \n",
       "5811                           NaN                          0.0   \n",
       "5812                           NaN                          0.0   \n",
       "5813                           NaN                         79.0   \n",
       "5814                         951.0                          NaN   \n",
       "\n",
       "     beneficiary_race_asian_pi_count beneficiary_race_hispanic_count  \\\n",
       "5809                             NaN                             0.0   \n",
       "5810                             NaN                             NaN   \n",
       "5811                             0.0                             0.0   \n",
       "5812                             0.0                             NaN   \n",
       "5813                             NaN                             NaN   \n",
       "5814                             NaN                             NaN   \n",
       "\n",
       "     beneficiary_race_nat_ind_count beneficiary_race_other_count  \\\n",
       "5809                            0.0                          NaN   \n",
       "5810                            0.0                          NaN   \n",
       "5811                            0.0                          NaN   \n",
       "5812                            0.0                          0.0   \n",
       "5813                            NaN                          0.0   \n",
       "5814                            NaN                         19.0   \n",
       "\n",
       "      beneficiary_nondual_count  beneficiary_dual_count  \\\n",
       "5809                        NaN                     NaN   \n",
       "5810                      146.0                    58.0   \n",
       "5811                        NaN                     NaN   \n",
       "5812                        NaN                     NaN   \n",
       "5813                       75.0                    78.0   \n",
       "5814                      948.0                    35.0   \n",
       "\n",
       "      beneficiary_average_risk_score  \n",
       "5809                          2.5471  \n",
       "5810                          2.0090  \n",
       "5811                          0.9592  \n",
       "5812                          1.3618  \n",
       "5813                          2.0090  \n",
       "5814                          1.2319  \n",
       "\n",
       "[6 rows x 84 columns]"
      ]
     },
     "execution_count": 8,
     "metadata": {},
     "output_type": "execute_result"
    }
   ],
   "source": [
    "print('2. 2)')\n",
    "# or alternatively, using iloc\n",
    "part_d.iloc[-6:]"
   ]
  },
  {
   "cell_type": "markdown",
   "metadata": {},
   "source": [
    "## Question 3\n",
    "This question has 4 parts:\n",
    "1. Use the `info()` function to examine the DataFrame from a high level. Take a moment to look at the number of non-null values and the datatypes of each column. \n",
    "2. How many non-null values does the `npi` column have? (Use the output of the `info()` function to answer this question.)\n",
    "3. What is the data type of the `npi` column? (Use the output of the `info()` function to answer this question.)\n",
    "4. The purpose of this question is to understand the data you are looking at. The `npi` stands for National Provider Identifier. Please provide a one or two sentence description of the NPI - you may use a web search (google/wikipedia/etc...) to answer this question. "
   ]
  },
  {
   "cell_type": "code",
   "execution_count": 9,
   "metadata": {},
   "outputs": [
    {
     "name": "stdout",
     "output_type": "stream",
     "text": [
      "1.\n",
      "<class 'pandas.core.frame.DataFrame'>\n",
      "RangeIndex: 5815 entries, 0 to 5814\n",
      "Data columns (total 84 columns):\n",
      " #   Column                            Non-Null Count  Dtype  \n",
      "---  ------                            --------------  -----  \n",
      " 0   npi                               5815 non-null   int64  \n",
      " 1   nppes_provider_last_org_name      5815 non-null   object \n",
      " 2   nppes_provider_first_name         5815 non-null   object \n",
      " 3   nppes_provider_mi                 4074 non-null   object \n",
      " 4   nppes_credentials                 5461 non-null   object \n",
      " 5   nppes_provider_gender             5815 non-null   object \n",
      " 6   nppes_entity_code                 5815 non-null   object \n",
      " 7   nppes_provider_street1            5815 non-null   object \n",
      " 8   nppes_provider_street2            2107 non-null   object \n",
      " 9   nppes_provider_city               5815 non-null   object \n",
      " 10  nppes_provider_zip5               5815 non-null   float64\n",
      " 11  nppes_provider_zip4               5031 non-null   float64\n",
      " 12  nppes_provider_state              5815 non-null   object \n",
      " 13  nppes_provider_country            5815 non-null   object \n",
      " 14  specialty_description             5815 non-null   object \n",
      " 15  description_flag                  5815 non-null   object \n",
      " 16  medicare_prvdr_enroll_status      5815 non-null   object \n",
      " 17  total_claim_count                 5815 non-null   int64  \n",
      " 18  total_30_day_fill_count           5815 non-null   float64\n",
      " 19  total_drug_cost                   5815 non-null   float64\n",
      " 20  total_day_supply                  5815 non-null   int64  \n",
      " 21  bene_count                        5186 non-null   float64\n",
      " 22  ge65_suppress_flag                1295 non-null   object \n",
      " 23  total_claim_count_ge65            4520 non-null   float64\n",
      " 24  total_30_day_fill_count_ge65      4520 non-null   float64\n",
      " 25  total_drug_cost_ge65              4520 non-null   float64\n",
      " 26  total_day_supply_ge65             4520 non-null   float64\n",
      " 27  bene_count_ge65_suppress_flag     2595 non-null   object \n",
      " 28  bene_count_ge65                   3220 non-null   float64\n",
      " 29  brand_suppress_flag               2324 non-null   object \n",
      " 30  brand_claim_count                 3491 non-null   float64\n",
      " 31  brand_drug_cost                   3491 non-null   float64\n",
      " 32  generic_suppress_flag             1573 non-null   object \n",
      " 33  generic_claim_count               4242 non-null   float64\n",
      " 34  generic_drug_cost                 4242 non-null   float64\n",
      " 35  other_suppress_flag               1224 non-null   object \n",
      " 36  other_claim_count                 4591 non-null   float64\n",
      " 37  other_drug_cost                   4591 non-null   float64\n",
      " 38  mapd_suppress_flag                1096 non-null   object \n",
      " 39  mapd_claim_count                  4719 non-null   float64\n",
      " 40  mapd_drug_cost                    4719 non-null   float64\n",
      " 41  pdp_suppress_flag                 1096 non-null   object \n",
      " 42  pdp_claim_count                   4719 non-null   float64\n",
      " 43  pdp_drug_cost                     4719 non-null   float64\n",
      " 44  lis_suppress_flag                 1191 non-null   object \n",
      " 45  lis_claim_count                   4624 non-null   float64\n",
      " 46  lis_drug_cost                     4624 non-null   float64\n",
      " 47  nonlis_suppress_flag              1191 non-null   object \n",
      " 48  nonlis_claim_count                4624 non-null   float64\n",
      " 49  nonlis_drug_cost                  4624 non-null   float64\n",
      " 50  opioid_claim_count                4225 non-null   float64\n",
      " 51  opioid_drug_cost                  4225 non-null   float64\n",
      " 52  opioid_day_supply                 4225 non-null   float64\n",
      " 53  opioid_bene_count                 3954 non-null   float64\n",
      " 54  opioid_prescriber_rate            4225 non-null   float64\n",
      " 55  la_opioid_claim_count             5099 non-null   float64\n",
      " 56  la_opioid_drug_cost               5099 non-null   float64\n",
      " 57  la_opioid_day_supply              5099 non-null   float64\n",
      " 58  la_opioid_bene_count              4703 non-null   float64\n",
      " 59  la_opioid_prescriber_rate         3340 non-null   float64\n",
      " 60  antibiotic_claim_count            4112 non-null   float64\n",
      " 61  antibiotic_drug_cost              4112 non-null   float64\n",
      " 62  antibiotic_bene_count             3812 non-null   float64\n",
      " 63  antipsych_ge65_suppress_flag      788 non-null    object \n",
      " 64  antipsych_claim_count_ge65        5027 non-null   float64\n",
      " 65  antipsych_drug_cost_ge65          5027 non-null   float64\n",
      " 66  antipsych_bene_ge65_suppress_flg  1254 non-null   object \n",
      " 67  antipsych_bene_count_ge65         4561 non-null   float64\n",
      " 68  average_age_of_beneficiaries      5186 non-null   float64\n",
      " 69  beneficiary_age_less_65_count     3220 non-null   float64\n",
      " 70  beneficiary_age_65_74_count       2675 non-null   float64\n",
      " 71  beneficiary_age_75_84_count       1815 non-null   float64\n",
      " 72  beneficiary_age_greater_84_count  1935 non-null   float64\n",
      " 73  beneficiary_female_count          4157 non-null   float64\n",
      " 74  beneficiary_male_count            4157 non-null   float64\n",
      " 75  beneficiary_race_white_count      2848 non-null   float64\n",
      " 76  beneficiary_race_black_count      2004 non-null   float64\n",
      " 77  beneficiary_race_asian_pi_count   2585 non-null   float64\n",
      " 78  beneficiary_race_hispanic_count   2006 non-null   float64\n",
      " 79  beneficiary_race_nat_ind_count    4176 non-null   float64\n",
      " 80  beneficiary_race_other_count      1784 non-null   float64\n",
      " 81  beneficiary_nondual_count         3455 non-null   float64\n",
      " 82  beneficiary_dual_count            3455 non-null   float64\n",
      " 83  beneficiary_average_risk_score    5186 non-null   float64\n",
      "dtypes: float64(56), int64(3), object(25)\n",
      "memory usage: 3.7+ MB\n"
     ]
    }
   ],
   "source": [
    "print('1.')\n",
    "part_d.info()"
   ]
  },
  {
   "cell_type": "code",
   "execution_count": 10,
   "metadata": {},
   "outputs": [],
   "source": [
    "# I can just read the output and answer the questions by typing, but that's not fun\n",
    "import io\n",
    "s = io.StringIO()\n",
    "# save output to buffer\n",
    "part_d.info(buf=s)\n",
    "s = s.getvalue()"
   ]
  },
  {
   "cell_type": "code",
   "execution_count": 11,
   "metadata": {},
   "outputs": [
    {
     "name": "stdout",
     "output_type": "stream",
     "text": [
      "2. there's 5815 non-null\n"
     ]
    }
   ],
   "source": [
    "# get the part where it has the number of non-nulls\n",
    "print('2. there\\'s ' + s[272:285])"
   ]
  },
  {
   "cell_type": "code",
   "execution_count": 12,
   "metadata": {},
   "outputs": [
    {
     "name": "stdout",
     "output_type": "stream",
     "text": [
      "3. the data type is int64\n"
     ]
    }
   ],
   "source": [
    "# get the part where it says the data type\n",
    "print('3. the data type is ' + s[288:293])"
   ]
  },
  {
   "cell_type": "code",
   "execution_count": 13,
   "metadata": {},
   "outputs": [
    {
     "name": "stdout",
     "output_type": "stream",
     "text": [
      "4. The NPI is a unique identification number for covered health care providers. The NPI is a 10-position, intelligence-free numeric identifier in that do not carry other information about healthcare providers.\n"
     ]
    }
   ],
   "source": [
    "print('4. The NPI is a unique identification number for covered health care providers. The NPI is a 10-position, intelligence-free numeric identifier in that do not carry other information about healthcare providers.')"
   ]
  },
  {
   "cell_type": "markdown",
   "metadata": {},
   "source": [
    "## Question 4\n",
    "Take a look at the `nppes_provider_state` column. Compute the number of unique values in this column using at least two different methods."
   ]
  },
  {
   "cell_type": "code",
   "execution_count": 14,
   "metadata": {},
   "outputs": [
    {
     "data": {
      "text/plain": [
       "55"
      ]
     },
     "execution_count": 14,
     "metadata": {},
     "output_type": "execute_result"
    }
   ],
   "source": [
    "# pandas built-in nunique(), this is the preferred way (faster)\n",
    "part_d['nppes_provider_state'].nunique()"
   ]
  },
  {
   "cell_type": "code",
   "execution_count": 15,
   "metadata": {},
   "outputs": [
    {
     "data": {
      "text/plain": [
       "55"
      ]
     },
     "execution_count": 15,
     "metadata": {},
     "output_type": "execute_result"
    }
   ],
   "source": [
    "# length of tuple that's returned by unique()\n",
    "len(part_d['nppes_provider_state'].unique())"
   ]
  },
  {
   "cell_type": "code",
   "execution_count": 16,
   "metadata": {},
   "outputs": [
    {
     "data": {
      "text/plain": [
       "55"
      ]
     },
     "execution_count": 16,
     "metadata": {},
     "output_type": "execute_result"
    }
   ],
   "source": [
    "# length of tuple that's returned by value_counts()\n",
    "len(part_d['nppes_provider_state'].value_counts())"
   ]
  },
  {
   "cell_type": "code",
   "execution_count": 17,
   "metadata": {},
   "outputs": [
    {
     "data": {
      "text/plain": [
       "55"
      ]
     },
     "execution_count": 17,
     "metadata": {},
     "output_type": "execute_result"
    }
   ],
   "source": [
    "# length of the set of this column\n",
    "len(set(part_d['nppes_provider_state']))"
   ]
  },
  {
   "cell_type": "markdown",
   "metadata": {},
   "source": [
    "## Question 5\n",
    "Let's take a look at the `specialty_description` column. Use the `value_counts()` method to determine the TOP 5 specialties in the dataset as well as their frequencies."
   ]
  },
  {
   "cell_type": "code",
   "execution_count": 18,
   "metadata": {},
   "outputs": [
    {
     "data": {
      "text/plain": [
       "Nurse Practitioner     785\n",
       "Dentist                647\n",
       "Internal Medicine      626\n",
       "Family Practice        565\n",
       "Physician Assistant    446\n",
       "Name: specialty_description, dtype: int64"
      ]
     },
     "execution_count": 18,
     "metadata": {},
     "output_type": "execute_result"
    }
   ],
   "source": [
    "# specialties and frequency\n",
    "part_d['specialty_description'].value_counts()[:5]"
   ]
  },
  {
   "cell_type": "code",
   "execution_count": 19,
   "metadata": {},
   "outputs": [
    {
     "name": "stdout",
     "output_type": "stream",
     "text": [
      "Nurse Practitioner\n",
      "Dentist\n",
      "Internal Medicine\n",
      "Family Practice\n",
      "Physician Assistant\n"
     ]
    }
   ],
   "source": [
    "# just the specialities\n",
    "for i in part_d['specialty_description'].value_counts()[:5].index:\n",
    "    print(i)"
   ]
  },
  {
   "cell_type": "code",
   "execution_count": 20,
   "metadata": {},
   "outputs": [
    {
     "name": "stdout",
     "output_type": "stream",
     "text": [
      "785\n",
      "647\n",
      "626\n",
      "565\n",
      "446\n"
     ]
    }
   ],
   "source": [
    "# just the frequency\n",
    "for i in part_d['specialty_description'].value_counts()[:5].values:\n",
    "    print(i)"
   ]
  },
  {
   "cell_type": "markdown",
   "metadata": {},
   "source": [
    "## Question 6\n",
    "This question has four parts:\n",
    "1. Define a variable `N` equal to the number of rows in the DataFrame, using the DataFrame `len` or `shape` methods.\n",
    "2. Append the `cumsum()` function to the output of the `value_counts()` function on the `specialty_description` field  and divide the output by `N` to obtain the cumulative ratio to the total count. \n",
    "3. Create a boolean variable (eg a mask) which resolves to `True` if the cumulative sum is less than 75%, else `False`.\n",
    "4. Use this boolean mask to filter the output of `value_counts()` to identify the columns that contribute to the first 75% of all specialities."
   ]
  },
  {
   "cell_type": "code",
   "execution_count": 21,
   "metadata": {},
   "outputs": [
    {
     "name": "stdout",
     "output_type": "stream",
     "text": [
      "1.\n",
      "5815\n"
     ]
    }
   ],
   "source": [
    "print('1.')\n",
    "# get rows\n",
    "N = len(part_d)\n",
    "print(N)"
   ]
  },
  {
   "cell_type": "code",
   "execution_count": 22,
   "metadata": {},
   "outputs": [
    {
     "name": "stdout",
     "output_type": "stream",
     "text": [
      "2.\n",
      "Nurse Practitioner    0.134996\n",
      "Dentist               0.246260\n",
      "Internal Medicine     0.353912\n",
      "Name: specialty_description, dtype: float64\n"
     ]
    }
   ],
   "source": [
    "print('2.')\n",
    "# using cumsum to get culmulative precentage\n",
    "df_c = part_d['specialty_description'].value_counts().cumsum() / N\n",
    "print(df_c.head(3))"
   ]
  },
  {
   "cell_type": "code",
   "execution_count": 23,
   "metadata": {},
   "outputs": [
    {
     "name": "stdout",
     "output_type": "stream",
     "text": [
      "3.\n",
      "Nurse Practitioner    True\n",
      "Dentist               True\n",
      "Internal Medicine     True\n",
      "Name: specialty_description, dtype: bool\n"
     ]
    }
   ],
   "source": [
    "print('3.')\n",
    "# create mask\n",
    "mask = (df_c) < 0.75\n",
    "print(mask.head(3))"
   ]
  },
  {
   "cell_type": "code",
   "execution_count": 24,
   "metadata": {},
   "outputs": [
    {
     "name": "stdout",
     "output_type": "stream",
     "text": [
      "4.\n",
      "Nurse Practitioner                                                785\n",
      "Dentist                                                           647\n",
      "Internal Medicine                                                 626\n",
      "Family Practice                                                   565\n",
      "Physician Assistant                                               446\n",
      "Emergency Medicine                                                250\n",
      "Student in an Organized Health Care Education/Training Program    250\n",
      "Obstetrics & Gynecology                                           203\n",
      "Optometry                                                         168\n",
      "Psychiatry                                                        152\n",
      "General Surgery                                                   121\n",
      "Ophthalmology                                                     115\n",
      "Name: specialty_description, dtype: int64\n"
     ]
    }
   ],
   "source": [
    "print('4.')\n",
    "# filter\n",
    "print(part_d['specialty_description'].value_counts()[mask])"
   ]
  },
  {
   "cell_type": "markdown",
   "metadata": {},
   "source": [
    "## Question 7:\n",
    "Take a look at these two columns: `total_claim_count` and `opioid_claim_count`. Define a new column that stores the ratio of the two, eg:\n",
    "```python\n",
    "part_d['opioid_claim_rate'] = part_d['opioid_claim_count']/part_d['total_claim_count']\n",
    "```\n",
    "Let us define **high opioid providers** as those who have an `opioid_claim_rate` that is greater than or equal to 50%. This question has three parts:\n",
    "1. Run the describe method on the `opioid_claim_rate` column and note the statistics.\n",
    "2. Use TWO different methods to calculate how many **high opioid providers** there are in the dataset. (Hint: you can use the sum of a boolean variable for one method and the size of a filtered dataset for the other method).\n",
    "3. Use TWO different methods to identify the top 3 states that have the highest number of **high opioid providers**. (Hint: you can use value_counts for one method and groupby for the other method). "
   ]
  },
  {
   "cell_type": "code",
   "execution_count": 25,
   "metadata": {},
   "outputs": [
    {
     "name": "stdout",
     "output_type": "stream",
     "text": [
      "1.\n",
      "0    False\n",
      "1    False\n",
      "2    False\n",
      "Name: opioid_claim_rate, dtype: bool\n"
     ]
    }
   ],
   "source": [
    "print('1.')\n",
    "# create rate column\n",
    "part_d['opioid_claim_rate'] = part_d['opioid_claim_count'] / part_d['total_claim_count']\n",
    "# create mask\n",
    "m = part_d['opioid_claim_rate'] >= 0.5\n",
    "print(m.head(3))"
   ]
  },
  {
   "cell_type": "code",
   "execution_count": 26,
   "metadata": {},
   "outputs": [
    {
     "name": "stdout",
     "output_type": "stream",
     "text": [
      "2. 1)\n",
      "There are 209 high opioid providers in the dataset\n"
     ]
    }
   ],
   "source": [
    "print('2. 1)')\n",
    "# method one, sum of bool\n",
    "print('There are ' + str(sum(m)) + ' high opioid providers in the dataset')"
   ]
  },
  {
   "cell_type": "code",
   "execution_count": 27,
   "metadata": {},
   "outputs": [
    {
     "name": "stdout",
     "output_type": "stream",
     "text": [
      "2. 2)\n",
      "2) There are 209 high opioid providers in the dataset\n"
     ]
    }
   ],
   "source": [
    "print('2. 2)')\n",
    "# method two, len of filtered df\n",
    "print('2) There are ' + str(len(part_d[m])) + ' high opioid providers in the dataset')"
   ]
  },
  {
   "cell_type": "code",
   "execution_count": 28,
   "metadata": {},
   "outputs": [
    {
     "name": "stdout",
     "output_type": "stream",
     "text": [
      "3. 1)\n",
      "CA\n",
      "FL\n",
      "NY\n"
     ]
    }
   ],
   "source": [
    "print('3. 1)')\n",
    "# method one, value_counts\n",
    "for i in part_d[m]['nppes_provider_state'].value_counts()[:3].index:\n",
    "    print(i)"
   ]
  },
  {
   "cell_type": "code",
   "execution_count": 29,
   "metadata": {},
   "outputs": [
    {
     "name": "stdout",
     "output_type": "stream",
     "text": [
      "3. 2)\n",
      "CA\n",
      "FL\n",
      "MI\n"
     ]
    }
   ],
   "source": [
    "print('3. 2)')\n",
    "# method two, groupby\n",
    "for i in part_d[m].groupby('nppes_provider_state').size().nlargest(3).index:\n",
    "    print(i)"
   ]
  },
  {
   "cell_type": "markdown",
   "metadata": {},
   "source": [
    "## Question 8:\n",
    "Using the `opioid_claim_rate` column computed in the previous question:\n",
    "\n",
    "1. Create a new DataFrame `g` that aggregates the `nppes_provider_gender` column using the `groupby` method and the `size` function to output the gender breakdown in the dataset. You can use this code to answer this question:\n",
    "```python\n",
    "g = part_d.groupby('nppes_provider_gender').size().reset_index()\n",
    "```\n",
    "2. Use the `rename` method to rename the columns of DataFrame `g` to *gender* and *count*.\n",
    "3. Now compute the aggregation of the dataset by gender but filtered to the **high opioid providers**. Name the DataFrame `g2`. Rename the columns to *gender* and *high_opioid_count*.\n",
    "4. Join the DataFrames g and g2 using the gender column as the key. The final result should look like this:\n",
    "```\n",
    "gender\tcount\thigh_opioid_count\n",
    "\tF\t2458\t62\n",
    "\tM\t3357\t147\n",
    "```\n",
    "5. Compute the ratio of `high_opioid_count` to `count` for each row and note the difference"
   ]
  },
  {
   "cell_type": "code",
   "execution_count": 30,
   "metadata": {},
   "outputs": [
    {
     "name": "stdout",
     "output_type": "stream",
     "text": [
      "1.\n",
      "  nppes_provider_gender     0\n",
      "0                     F  2458\n",
      "1                     M  3357\n"
     ]
    }
   ],
   "source": [
    "print('1.')\n",
    "# create the new df's and renaming columns\n",
    "g = part_d.groupby('nppes_provider_gender').size().reset_index()\n",
    "print(g)"
   ]
  },
  {
   "cell_type": "code",
   "execution_count": 31,
   "metadata": {},
   "outputs": [
    {
     "name": "stdout",
     "output_type": "stream",
     "text": [
      "2.\n",
      "  gender  count\n",
      "0      F   2458\n",
      "1      M   3357\n"
     ]
    }
   ],
   "source": [
    "print('2.')\n",
    "g.rename(columns={'nppes_provider_gender': 'gender', 0: 'count'}, inplace = True)\n",
    "print(g)"
   ]
  },
  {
   "cell_type": "code",
   "execution_count": 32,
   "metadata": {},
   "outputs": [
    {
     "name": "stdout",
     "output_type": "stream",
     "text": [
      "3.\n",
      "  gender  high_opioid_count\n",
      "0      F                 62\n",
      "1      M                147\n"
     ]
    }
   ],
   "source": [
    "print('3.')\n",
    "g2 = part_d[m].groupby('nppes_provider_gender').size().reset_index()\n",
    "g2.rename(columns={'nppes_provider_gender': 'gender', 0: 'high_opioid_count'}, inplace = True)\n",
    "print(g2)"
   ]
  },
  {
   "cell_type": "code",
   "execution_count": 33,
   "metadata": {},
   "outputs": [
    {
     "name": "stdout",
     "output_type": "stream",
     "text": [
      "4.\n",
      "  gender  count  high_opioid_count\n",
      "0      F   2458                 62\n",
      "1      M   3357                147\n"
     ]
    }
   ],
   "source": [
    "print('4.')\n",
    "# join and save to g3\n",
    "g3 = g.join(g2.set_index('gender'), on='gender')\n",
    "print(g3)"
   ]
  },
  {
   "cell_type": "code",
   "execution_count": 34,
   "metadata": {},
   "outputs": [
    {
     "name": "stdout",
     "output_type": "stream",
     "text": [
      "5.\n",
      "  gender  count  high_opioid_count     ratio\n",
      "0      F   2458                 62  0.025224\n",
      "1      M   3357                147  0.043789\n",
      "Difference between gender claim ratio is 1.856533825461679%\n"
     ]
    }
   ],
   "source": [
    "print('5.')\n",
    "# calculate ratio columns\n",
    "g3['ratio'] = g3['high_opioid_count'] / g3['count']\n",
    "print(g3)\n",
    "# noting the difference\n",
    "print('Difference between gender claim ratio is ' + str(g3['ratio'].diff(1)[1] * 100) + '%')"
   ]
  },
  {
   "cell_type": "markdown",
   "metadata": {},
   "source": [
    "## Question 9:\n",
    "The Office of Inspector General ([OIG](https://oig.hhs.gov/)) has the authority to **exclude** individuals and entities from Federally funded health care programs. To be excluded is quite serious, as you can see from their website:\n",
    "\n",
    ">The OIG maintains a list of all currently excluded individuals and entities called the List of Excluded Individuals/Entities (LEIE). Anyone who hires an individual or entity on the LEIE may be subject to civil monetary penalties (CMP). To avoid CMP liability, health care entities should routinely check the list to ensure that new hires and current employees are not on it.\n",
    "\n",
    "This list is publicaly available, [here](https://oig.hhs.gov/exclusions/exclusions_list.asp). I have downloaded this file in its entirety (in December 2020) and have stripped it down to the columns we need.\n",
    "\n",
    "Load the provided file into a DataFrame, named `exclusions`:\n",
    "\n",
    "```python\n",
    "exclusions = pd.read_csv('physicians_exclusions_sample3.csv')\n",
    "```\n",
    "This question has a number of parts:\n",
    "\n",
    "1. Print the number of rows and columns in the exclusions dataset.\n",
    "2. Display the first 6 rows the DataFrame. \n",
    "3. Display 3 random rows of the DataFrame using the `sample` method.\n",
    "4. Use the `nunique` method to determine the number of unique NPIs. Compare this to the size of the dataset - what do you observe?\n",
    "5. Are there any NULL `NPI` values?\n",
    "6. What is the most frequent `NPI` value?\n",
    "7. Apply the `unique` method to the NPI column and convert the outcome to a list of NPIs (hint use the `tolist` method). Store the output in a variable called `npis`. What is the length of `npis`?\n",
    "8. Apply the `isin` method to `part_d` to tag the rows whose NPI is in the list of excluded NPIs. You can use the following code. How many records are there in `excluded1`?\n",
    "```python\n",
    "excluded1 = part_d[part_d['npi'].isin(npis)]\n",
    "```"
   ]
  },
  {
   "cell_type": "code",
   "execution_count": 35,
   "metadata": {},
   "outputs": [
    {
     "name": "stdout",
     "output_type": "stream",
     "text": [
      "1. rows: 69858 columns: 4\n"
     ]
    }
   ],
   "source": [
    "# load .csv file\n",
    "exclusions = pd.read_csv('physicians_exclusions_sample3.csv')\n",
    "print('1. rows: ' + str(len(exclusions)), 'columns: ' + str(len(exclusions.columns)))"
   ]
  },
  {
   "cell_type": "code",
   "execution_count": 36,
   "metadata": {},
   "outputs": [
    {
     "name": "stdout",
     "output_type": "stream",
     "text": [
      "2.\n"
     ]
    },
    {
     "data": {
      "text/html": [
       "<div>\n",
       "<style scoped>\n",
       "    .dataframe tbody tr th:only-of-type {\n",
       "        vertical-align: middle;\n",
       "    }\n",
       "\n",
       "    .dataframe tbody tr th {\n",
       "        vertical-align: top;\n",
       "    }\n",
       "\n",
       "    .dataframe thead th {\n",
       "        text-align: right;\n",
       "    }\n",
       "</style>\n",
       "<table border=\"1\" class=\"dataframe\">\n",
       "  <thead>\n",
       "    <tr style=\"text-align: right;\">\n",
       "      <th></th>\n",
       "      <th>LASTNAME</th>\n",
       "      <th>FIRSTNAME</th>\n",
       "      <th>STATE</th>\n",
       "      <th>NPI</th>\n",
       "    </tr>\n",
       "  </thead>\n",
       "  <tbody>\n",
       "    <tr>\n",
       "      <th>0</th>\n",
       "      <td>AALDERS</td>\n",
       "      <td>NANCY</td>\n",
       "      <td>IL</td>\n",
       "      <td>0</td>\n",
       "    </tr>\n",
       "    <tr>\n",
       "      <th>1</th>\n",
       "      <td>AALTONEN</td>\n",
       "      <td>NICKOLAS</td>\n",
       "      <td>WA</td>\n",
       "      <td>0</td>\n",
       "    </tr>\n",
       "    <tr>\n",
       "      <th>2</th>\n",
       "      <td>AAMIR</td>\n",
       "      <td>MUHAMMAD</td>\n",
       "      <td>MI</td>\n",
       "      <td>0</td>\n",
       "    </tr>\n",
       "    <tr>\n",
       "      <th>3</th>\n",
       "      <td>AARON</td>\n",
       "      <td>ALINA</td>\n",
       "      <td>AZ</td>\n",
       "      <td>0</td>\n",
       "    </tr>\n",
       "    <tr>\n",
       "      <th>4</th>\n",
       "      <td>AARON</td>\n",
       "      <td>CHRISTOPHER</td>\n",
       "      <td>PA</td>\n",
       "      <td>0</td>\n",
       "    </tr>\n",
       "    <tr>\n",
       "      <th>5</th>\n",
       "      <td>AARON</td>\n",
       "      <td>DEBORAH</td>\n",
       "      <td>TX</td>\n",
       "      <td>0</td>\n",
       "    </tr>\n",
       "  </tbody>\n",
       "</table>\n",
       "</div>"
      ],
      "text/plain": [
       "   LASTNAME    FIRSTNAME STATE  NPI\n",
       "0   AALDERS        NANCY    IL    0\n",
       "1  AALTONEN     NICKOLAS    WA    0\n",
       "2     AAMIR     MUHAMMAD    MI    0\n",
       "3     AARON        ALINA    AZ    0\n",
       "4     AARON  CHRISTOPHER    PA    0\n",
       "5     AARON      DEBORAH    TX    0"
      ]
     },
     "execution_count": 36,
     "metadata": {},
     "output_type": "execute_result"
    }
   ],
   "source": [
    "print('2.')\n",
    "# use head to check first 6 rows\n",
    "exclusions.head(6)"
   ]
  },
  {
   "cell_type": "code",
   "execution_count": 37,
   "metadata": {},
   "outputs": [
    {
     "name": "stdout",
     "output_type": "stream",
     "text": [
      "3.\n"
     ]
    },
    {
     "data": {
      "text/html": [
       "<div>\n",
       "<style scoped>\n",
       "    .dataframe tbody tr th:only-of-type {\n",
       "        vertical-align: middle;\n",
       "    }\n",
       "\n",
       "    .dataframe tbody tr th {\n",
       "        vertical-align: top;\n",
       "    }\n",
       "\n",
       "    .dataframe thead th {\n",
       "        text-align: right;\n",
       "    }\n",
       "</style>\n",
       "<table border=\"1\" class=\"dataframe\">\n",
       "  <thead>\n",
       "    <tr style=\"text-align: right;\">\n",
       "      <th></th>\n",
       "      <th>LASTNAME</th>\n",
       "      <th>FIRSTNAME</th>\n",
       "      <th>STATE</th>\n",
       "      <th>NPI</th>\n",
       "    </tr>\n",
       "  </thead>\n",
       "  <tbody>\n",
       "    <tr>\n",
       "      <th>9695</th>\n",
       "      <td>CAPOZZI</td>\n",
       "      <td>TAMMY</td>\n",
       "      <td>NY</td>\n",
       "      <td>1710221882</td>\n",
       "    </tr>\n",
       "    <tr>\n",
       "      <th>60669</th>\n",
       "      <td>STROBBE</td>\n",
       "      <td>RICHARD</td>\n",
       "      <td>PA</td>\n",
       "      <td>0</td>\n",
       "    </tr>\n",
       "    <tr>\n",
       "      <th>9382</th>\n",
       "      <td>CAMBERO</td>\n",
       "      <td>DAVID</td>\n",
       "      <td>IL</td>\n",
       "      <td>0</td>\n",
       "    </tr>\n",
       "  </tbody>\n",
       "</table>\n",
       "</div>"
      ],
      "text/plain": [
       "      LASTNAME FIRSTNAME STATE         NPI\n",
       "9695   CAPOZZI     TAMMY    NY  1710221882\n",
       "60669  STROBBE   RICHARD    PA           0\n",
       "9382   CAMBERO     DAVID    IL           0"
      ]
     },
     "execution_count": 37,
     "metadata": {},
     "output_type": "execute_result"
    }
   ],
   "source": [
    "print('3.')\n",
    "# use sample to randomly check three rows\n",
    "exclusions.sample(3)"
   ]
  },
  {
   "cell_type": "code",
   "execution_count": 38,
   "metadata": {},
   "outputs": [
    {
     "name": "stdout",
     "output_type": "stream",
     "text": [
      "4. Number of unique NPI's is 5200, and it is only 7.44% of the size of the dataset\n"
     ]
    }
   ],
   "source": [
    "# use nunique to get the number of unique entries\n",
    "n1 = exclusions['NPI'].nunique()\n",
    "n2 = (exclusions['NPI'].nunique() / len(exclusions)) * 100\n",
    "print('4. Number of unique NPI\\'s is ' + str(n1) + ', and it is only ' + str(n2)[:4] + '% of the size of the dataset')"
   ]
  },
  {
   "cell_type": "code",
   "execution_count": 39,
   "metadata": {},
   "outputs": [
    {
     "name": "stdout",
     "output_type": "stream",
     "text": [
      "5. There is(are) 0 na(s) in the NPI column\n"
     ]
    }
   ],
   "source": [
    "# use isna to check if there are null, and sum to get the number of nulls\n",
    "s = str(exclusions['NPI'].isna().sum())\n",
    "print('5. There is(are) ' + s + ' na(s) in the NPI column')"
   ]
  },
  {
   "cell_type": "code",
   "execution_count": 40,
   "metadata": {},
   "outputs": [
    {
     "name": "stdout",
     "output_type": "stream",
     "text": [
      "6. '0' is the most frequent NPI, which is likely incorrect as NPI's need to be 10 digits, hence all the '0's are presumably miss values, i.e. NaN/null\n"
     ]
    }
   ],
   "source": [
    "# use value_counts to get frequency\n",
    "print('6. \\'' + str(exclusions['NPI'].value_counts().index[0]) + '\\' is the most frequent NPI, which is likely incorrect as NPI\\'s need to be 10 digits, hence all the \\'0\\'s are presumably miss values, i.e. NaN/null')"
   ]
  },
  {
   "cell_type": "code",
   "execution_count": 41,
   "metadata": {},
   "outputs": [
    {
     "name": "stdout",
     "output_type": "stream",
     "text": [
      "7. The length of list 'npis' is 5200\n"
     ]
    }
   ],
   "source": [
    "# use unique to get an array of unique entries, use tolist to convert to list\n",
    "npis = exclusions['NPI'].unique().tolist()\n",
    "print('7. The length of list \\'npis\\' is', len(npis))"
   ]
  },
  {
   "cell_type": "code",
   "execution_count": 42,
   "metadata": {},
   "outputs": [
    {
     "name": "stdout",
     "output_type": "stream",
     "text": [
      "8. There are 2 records in df 'excluded1'\n"
     ]
    }
   ],
   "source": [
    "# create excluded one by filtering if the npi is in list npis\n",
    "excluded1 = part_d[part_d['npi'].isin(npis)]\n",
    "print('8. There are', len(excluded1), 'records in df \\'excluded1\\'')"
   ]
  },
  {
   "cell_type": "markdown",
   "metadata": {},
   "source": [
    "## Question 10\n",
    "In question 9 we searched for records in the part_d DataFrame whose NPI was in the exclusions dataset. Matching across the NPI yielded only 2 excluded providers. This seems suspicious. The problem is probably due to the fact that so many of the NPIs in the excluded dataset are marked as `0`. Perhaps we can do better by matching across first and last names. Let's do that in these steps.\n",
    "1. As a sanity check, let's first do a merge between the two datasets on NPI. Your results should confirm the result obtained in question 9. For convenience, define this list of columns:\n",
    "```python\n",
    "cols = [\n",
    "    'npi', \n",
    "    'nppes_provider_first_name', \n",
    "    'nppes_provider_last_org_name', \n",
    "    'nppes_provider_state', \n",
    "    'NPI',\n",
    "    'FIRSTNAME',\n",
    "    'LASTNAME',\n",
    "    'STATE',\n",
    "    'opioid_claim_rate'\n",
    "]\n",
    "```\n",
    "Perform the merge and display the output for the columns in `cols`. You can use the following code to answer this question:\n",
    "```python\n",
    "excluded2 = pd.merge(left = part_d, right = exclusions, how = 'inner', \n",
    "         left_on = ['npi'],\n",
    "         right_on = ['NPI']\n",
    "        )\n",
    "excluded2[cols]\n",
    "```\n",
    "Your results should match the results from Question 9.\n",
    "\n",
    "\n",
    "2. Since we are going to match across names, let's first convert the applicable columns to upper case and strip out any leading or trailing spaces. You can use the following code to answer this question but you'll need to apply it to the remaining first and last name columns, eg 'nppes_provider_first_name', 'nppes_provider_last_org_name', 'FIRSTNAME' and 'LASTNAME'\n",
    "```python\n",
    "part_d['nppes_provider_first_name'] = part_d['nppes_provider_first_name'].str.upper().str.strip()\n",
    "```\n",
    "\n",
    "3. Run another inner join across both datasets using first and last names. My result had 461 rows. Please take a look at the dataset filtering on the columns in `cols` as done above. What do you notice? \n",
    "\n",
    "\n",
    "4. In order to conduct a better quality match, include the state in your join keys. You should now be matching on first name, last name and state. My result had 22 records. I feel more confident in this match since the names and state lines up. You'll notice that some of the providers have 0 `opioid_claim_rate`. This is not that surprising as there are many different kinds of behaviors that a provider can engage in in order to get on the exclusisons list. \n"
   ]
  },
  {
   "cell_type": "code",
   "execution_count": 43,
   "metadata": {},
   "outputs": [
    {
     "name": "stdout",
     "output_type": "stream",
     "text": [
      "1.\n"
     ]
    },
    {
     "data": {
      "text/html": [
       "<div>\n",
       "<style scoped>\n",
       "    .dataframe tbody tr th:only-of-type {\n",
       "        vertical-align: middle;\n",
       "    }\n",
       "\n",
       "    .dataframe tbody tr th {\n",
       "        vertical-align: top;\n",
       "    }\n",
       "\n",
       "    .dataframe thead th {\n",
       "        text-align: right;\n",
       "    }\n",
       "</style>\n",
       "<table border=\"1\" class=\"dataframe\">\n",
       "  <thead>\n",
       "    <tr style=\"text-align: right;\">\n",
       "      <th></th>\n",
       "      <th>npi</th>\n",
       "      <th>nppes_provider_first_name</th>\n",
       "      <th>nppes_provider_last_org_name</th>\n",
       "      <th>nppes_provider_state</th>\n",
       "      <th>NPI</th>\n",
       "      <th>FIRSTNAME</th>\n",
       "      <th>LASTNAME</th>\n",
       "      <th>STATE</th>\n",
       "      <th>opioid_claim_rate</th>\n",
       "    </tr>\n",
       "  </thead>\n",
       "  <tbody>\n",
       "    <tr>\n",
       "      <th>0</th>\n",
       "      <td>1659506111</td>\n",
       "      <td>DESMOND</td>\n",
       "      <td>FRANCIS</td>\n",
       "      <td>NY</td>\n",
       "      <td>1659506111</td>\n",
       "      <td>DESMOND</td>\n",
       "      <td>FRANCIS</td>\n",
       "      <td>NY</td>\n",
       "      <td>0.089926</td>\n",
       "    </tr>\n",
       "    <tr>\n",
       "      <th>1</th>\n",
       "      <td>1770505612</td>\n",
       "      <td>HARRISON</td>\n",
       "      <td>YANG</td>\n",
       "      <td>TN</td>\n",
       "      <td>1770505612</td>\n",
       "      <td>HARRISON</td>\n",
       "      <td>YANG</td>\n",
       "      <td>TN</td>\n",
       "      <td>0.119433</td>\n",
       "    </tr>\n",
       "  </tbody>\n",
       "</table>\n",
       "</div>"
      ],
      "text/plain": [
       "          npi nppes_provider_first_name nppes_provider_last_org_name  \\\n",
       "0  1659506111                   DESMOND                      FRANCIS   \n",
       "1  1770505612                  HARRISON                         YANG   \n",
       "\n",
       "  nppes_provider_state         NPI FIRSTNAME LASTNAME STATE  opioid_claim_rate  \n",
       "0                   NY  1659506111   DESMOND  FRANCIS    NY           0.089926  \n",
       "1                   TN  1770505612  HARRISON     YANG    TN           0.119433  "
      ]
     },
     "execution_count": 43,
     "metadata": {},
     "output_type": "execute_result"
    }
   ],
   "source": [
    "print('1.')\n",
    "cols = [\n",
    "    'npi', \n",
    "    'nppes_provider_first_name', \n",
    "    'nppes_provider_last_org_name', \n",
    "    'nppes_provider_state', \n",
    "    'NPI',\n",
    "    'FIRSTNAME',\n",
    "    'LASTNAME',\n",
    "    'STATE',\n",
    "    'opioid_claim_rate'\n",
    "]\n",
    "# create excluded2 by doing a inner merge on npi and NPI\n",
    "excluded2 = pd.merge(left = part_d, right = exclusions, how = 'inner', \n",
    "      left_on = ['npi'],\n",
    "      right_on = ['NPI']\n",
    "     )\n",
    "excluded2[cols]"
   ]
  },
  {
   "cell_type": "code",
   "execution_count": 44,
   "metadata": {},
   "outputs": [
    {
     "name": "stdout",
     "output_type": "stream",
     "text": [
      "2.\n"
     ]
    }
   ],
   "source": [
    "print('2.')\n",
    "# set all names to upper case and strip spaces\n",
    "part_d['nppes_provider_first_name'] = part_d['nppes_provider_first_name'].str.upper().str.strip()\n",
    "part_d['nppes_provider_last_org_name'] = part_d['nppes_provider_last_org_name'].str.upper().str.strip()\n",
    "exclusions['FIRSTNAME'] = exclusions['FIRSTNAME'].str.upper().str.strip()\n",
    "exclusions['LASTNAME'] = exclusions['LASTNAME'].str.upper().str.strip()"
   ]
  },
  {
   "cell_type": "code",
   "execution_count": 45,
   "metadata": {},
   "outputs": [
    {
     "name": "stdout",
     "output_type": "stream",
     "text": [
      "3. Apparently, exclusion works on state level, for instance this Richard Coleman has NPPE location of TX but exclusion location of CA, which technically means he is still good? Or it could just be different people with similar names.\n"
     ]
    },
    {
     "data": {
      "text/html": [
       "<div>\n",
       "<style scoped>\n",
       "    .dataframe tbody tr th:only-of-type {\n",
       "        vertical-align: middle;\n",
       "    }\n",
       "\n",
       "    .dataframe tbody tr th {\n",
       "        vertical-align: top;\n",
       "    }\n",
       "\n",
       "    .dataframe thead th {\n",
       "        text-align: right;\n",
       "    }\n",
       "</style>\n",
       "<table border=\"1\" class=\"dataframe\">\n",
       "  <thead>\n",
       "    <tr style=\"text-align: right;\">\n",
       "      <th></th>\n",
       "      <th>npi</th>\n",
       "      <th>nppes_provider_first_name</th>\n",
       "      <th>nppes_provider_last_org_name</th>\n",
       "      <th>nppes_provider_state</th>\n",
       "      <th>NPI</th>\n",
       "      <th>FIRSTNAME</th>\n",
       "      <th>LASTNAME</th>\n",
       "      <th>STATE</th>\n",
       "      <th>opioid_claim_rate</th>\n",
       "    </tr>\n",
       "  </thead>\n",
       "  <tbody>\n",
       "    <tr>\n",
       "      <th>0</th>\n",
       "      <td>1003153628</td>\n",
       "      <td>RICHARD</td>\n",
       "      <td>COLEMAN</td>\n",
       "      <td>TX</td>\n",
       "      <td>0</td>\n",
       "      <td>RICHARD</td>\n",
       "      <td>COLEMAN</td>\n",
       "      <td>CA</td>\n",
       "      <td>0.047162</td>\n",
       "    </tr>\n",
       "  </tbody>\n",
       "</table>\n",
       "</div>"
      ],
      "text/plain": [
       "          npi nppes_provider_first_name nppes_provider_last_org_name  \\\n",
       "0  1003153628                   RICHARD                      COLEMAN   \n",
       "\n",
       "  nppes_provider_state  NPI FIRSTNAME LASTNAME STATE  opioid_claim_rate  \n",
       "0                   TX    0   RICHARD  COLEMAN    CA           0.047162  "
      ]
     },
     "execution_count": 45,
     "metadata": {},
     "output_type": "execute_result"
    }
   ],
   "source": [
    "# create excluded3 by doing a inner merge on first name and last name\n",
    "excluded3 = pd.merge(left = part_d, right = exclusions, how = 'inner', \n",
    "      left_on = ['nppes_provider_first_name', 'nppes_provider_last_org_name'],\n",
    "      right_on = ['FIRSTNAME', 'LASTNAME']\n",
    "     )\n",
    "# somehow the number of rows is not 461, and I'm pretty sure there's nothing wrong with my code, are we using different datasets?\n",
    "print('3. Apparently, exclusion works on state level, for instance this Richard Coleman has NPPE location of TX but exclusion location of CA, which technically means he is still good? Or it could just be different people with similar names.')\n",
    "excluded3.head(1)[cols]"
   ]
  },
  {
   "cell_type": "code",
   "execution_count": 47,
   "metadata": {},
   "outputs": [
    {
     "name": "stdout",
     "output_type": "stream",
     "text": [
      "4.\n"
     ]
    },
    {
     "data": {
      "text/plain": [
       "True"
      ]
     },
     "execution_count": 47,
     "metadata": {},
     "output_type": "execute_result"
    }
   ],
   "source": [
    "print('4.')\n",
    "# create excluded4 by doing a inner merge on first name, last name and state\n",
    "excluded4 = pd.merge(left = part_d, right = exclusions, how = 'inner', \n",
    "      left_on = ['nppes_provider_first_name', 'nppes_provider_last_org_name', 'nppes_provider_state'],\n",
    "      right_on = ['FIRSTNAME', 'LASTNAME', 'STATE']\n",
    "     )\n",
    "# row number matches, so this should be correct\n",
    "len(excluded4) == 22"
   ]
  }
 ],
 "metadata": {
  "kernelspec": {
   "display_name": "Python 3 (ipykernel)",
   "language": "python",
   "name": "python3"
  },
  "language_info": {
   "codemirror_mode": {
    "name": "ipython",
    "version": 3
   },
   "file_extension": ".py",
   "mimetype": "text/x-python",
   "name": "python",
   "nbconvert_exporter": "python",
   "pygments_lexer": "ipython3",
   "version": "3.10.9"
  }
 },
 "nbformat": 4,
 "nbformat_minor": 4
}
