{
 "cells": [
  {
   "cell_type": "code",
   "execution_count": 1,
   "metadata": {},
   "outputs": [],
   "source": [
    "%load_ext autoreload\n",
    "%autoreload 2"
   ]
  },
  {
   "cell_type": "code",
   "execution_count": 2,
   "id": "82ed5c7b",
   "metadata": {},
   "outputs": [],
   "source": [
    "# from src.detector import Detector\n",
    "# path_to_file = 'data/0101.ipynb'"
   ]
  },
  {
   "cell_type": "code",
   "execution_count": 3,
   "metadata": {},
   "outputs": [],
   "source": [
    "from src.count_vect import Detector\n",
    "path = 'data'"
   ]
  },
  {
   "cell_type": "code",
   "execution_count": 4,
   "id": "cc2ae2ea",
   "metadata": {},
   "outputs": [
    {
     "name": "stdout",
     "output_type": "stream",
     "text": [
      "Potential plagiarism detected between 0102.ipynb and 0101.ipynb - Similarity: 100.00000000000003\n",
      "Potential plagiarism detected between 0102.ipynb and 0103.ipynb - Similarity: 99.96463306697527\n",
      "Potential plagiarism detected between 0101.ipynb and 0103.ipynb - Similarity: 99.96463306697527\n"
     ]
    }
   ],
   "source": [
    "detector = Detector(path=path)\n",
    "detector.generate_results(output_size=3)"
   ]
  }
 ],
 "metadata": {
  "kernelspec": {
   "display_name": "Python 3 (ipykernel)",
   "language": "python",
   "name": "python3"
  },
  "language_info": {
   "codemirror_mode": {
    "name": "ipython",
    "version": 3
   },
   "file_extension": ".py",
   "mimetype": "text/x-python",
   "name": "python",
   "nbconvert_exporter": "python",
   "pygments_lexer": "ipython3",
   "version": "3.10.5"
  }
 },
 "nbformat": 4,
 "nbformat_minor": 5
}
