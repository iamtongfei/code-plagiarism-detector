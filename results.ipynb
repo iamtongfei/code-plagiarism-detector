{
 "cells": [
  {
   "cell_type": "code",
   "execution_count": 1,
   "id": "82ed5c7b",
   "metadata": {},
   "outputs": [],
   "source": [
    "from src.module1 import Detector"
   ]
  },
  {
   "cell_type": "code",
   "execution_count": 2,
   "id": "cc2ae2ea",
   "metadata": {},
   "outputs": [],
   "source": [
    "detector = Detector(path=\"data\")\n",
    "detector.generate_results()"
   ]
  },
  {
   "cell_type": "code",
   "execution_count": null,
   "id": "df085c43",
   "metadata": {},
   "outputs": [],
   "source": []
  }
 ],
 "metadata": {
  "kernelspec": {
   "display_name": "Python 3 (ipykernel)",
   "language": "python",
   "name": "python3"
  },
  "language_info": {
   "codemirror_mode": {
    "name": "ipython",
    "version": 3
   },
   "file_extension": ".py",
   "mimetype": "text/x-python",
   "name": "python",
   "nbconvert_exporter": "python",
   "pygments_lexer": "ipython3",
   "version": "3.10.9"
  }
 },
 "nbformat": 4,
 "nbformat_minor": 5
}
