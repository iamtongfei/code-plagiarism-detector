{
 "cells": [
  {
   "cell_type": "code",
   "execution_count": 1,
   "id": "82ed5c7b",
   "metadata": {},
   "outputs": [
    {
     "name": "stdout",
     "output_type": "stream",
     "text": [
      "Sum is  3\n"
     ]
    }
   ],
   "source": [
    "from src.detector import Detector\n"
   ]
  },
  {
   "cell_type": "code",
   "execution_count": 2,
   "id": "cc2ae2ea",
   "metadata": {},
   "outputs": [
    {
     "name": "stdout",
     "output_type": "stream",
     "text": [
      "start the work now 2:02\n"
     ]
    }
   ],
   "source": [
    "detector = Detector(path=\"data/0101.ipynb\")\n",
    "detector.generate_results()"
   ]
  },
  {
   "cell_type": "code",
   "execution_count": null,
   "id": "df085c43",
   "metadata": {},
   "outputs": [],
   "source": []
  }
 ],
 "metadata": {
  "kernelspec": {
   "display_name": "Python 3 (ipykernel)",
   "language": "python",
   "name": "python3"
  },
  "language_info": {
   "codemirror_mode": {
    "name": "ipython",
    "version": 3
   },
   "file_extension": ".py",
   "mimetype": "text/x-python",
   "name": "python",
   "nbconvert_exporter": "python",
   "pygments_lexer": "ipython3",
   "version": "3.10.5"
  }
 },
 "nbformat": 4,
 "nbformat_minor": 5
}
